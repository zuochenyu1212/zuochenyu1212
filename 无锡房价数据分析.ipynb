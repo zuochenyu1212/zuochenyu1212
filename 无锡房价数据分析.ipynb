{
 "cells": [
  {
   "cell_type": "code",
   "execution_count": 4,
   "id": "7e1eef2a",
   "metadata": {
    "ExecuteTime": {
     "end_time": "2024-07-10T04:36:22.381370Z",
     "start_time": "2024-07-10T04:36:17.318779Z"
    }
   },
   "outputs": [],
   "source": [
    "import pandas as pd\n",
    "import numpy as np\n",
    "import matplotlib.pyplot as plt\n",
    "import seaborn as sns\n",
    "\n",
    "plt.rcParams['font.sans-serif']= ['SimHei']"
   ]
  },
  {
   "cell_type": "markdown",
   "id": "ea223d6c",
   "metadata": {},
   "source": [
    "# 读取数据"
   ]
  },
  {
   "cell_type": "markdown",
   "id": "bb38bac2",
   "metadata": {},
   "source": [
    "读取二手房数据"
   ]
  },
  {
   "cell_type": "code",
   "execution_count": 5,
   "id": "240f9b86",
   "metadata": {
    "ExecuteTime": {
     "end_time": "2024-07-10T04:36:22.466445Z",
     "start_time": "2024-07-10T04:36:22.400671Z"
    }
   },
   "outputs": [],
   "source": [
    "second_hand_houses = pd.read_csv('无锡链家二手房数据.csv')"
   ]
  },
  {
   "cell_type": "markdown",
   "id": "e76ba828",
   "metadata": {},
   "source": [
    "新房数据读取"
   ]
  },
  {
   "cell_type": "code",
   "execution_count": 6,
   "id": "bad8c7f0",
   "metadata": {
    "ExecuteTime": {
     "end_time": "2024-07-10T04:36:22.507025Z",
     "start_time": "2024-07-10T04:36:22.470257Z"
    }
   },
   "outputs": [],
   "source": [
    "new_houses = pd.read_csv('无锡链家新房数据.csv')"
   ]
  },
  {
   "cell_type": "markdown",
   "id": "a5776b3f",
   "metadata": {},
   "source": [
    "二手房成交数据"
   ]
  },
  {
   "cell_type": "code",
   "execution_count": 7,
   "id": "dafa2a4f",
   "metadata": {
    "ExecuteTime": {
     "end_time": "2024-07-10T04:36:22.545757Z",
     "start_time": "2024-07-10T04:36:22.508747Z"
    }
   },
   "outputs": [],
   "source": [
    "transaction_records = pd.read_csv('无锡链家二手房成交记录.csv')"
   ]
  },
  {
   "cell_type": "markdown",
   "id": "7f9a5630",
   "metadata": {},
   "source": [
    "# 数据清洗"
   ]
  },
  {
   "cell_type": "markdown",
   "id": "00417fcf",
   "metadata": {},
   "source": [
    "## 二手房数据清洗"
   ]
  },
  {
   "cell_type": "code",
   "execution_count": 8,
   "id": "97a74fb3",
   "metadata": {
    "ExecuteTime": {
     "end_time": "2024-07-10T04:36:23.653867Z",
     "start_time": "2024-07-10T04:36:23.594639Z"
    }
   },
   "outputs": [
    {
     "data": {
      "text/html": [
       "<div>\n",
       "<style scoped>\n",
       "    .dataframe tbody tr th:only-of-type {\n",
       "        vertical-align: middle;\n",
       "    }\n",
       "\n",
       "    .dataframe tbody tr th {\n",
       "        vertical-align: top;\n",
       "    }\n",
       "\n",
       "    .dataframe thead th {\n",
       "        text-align: right;\n",
       "    }\n",
       "</style>\n",
       "<table border=\"1\" class=\"dataframe\">\n",
       "  <thead>\n",
       "    <tr style=\"text-align: right;\">\n",
       "      <th></th>\n",
       "      <th>标题</th>\n",
       "      <th>小区名称</th>\n",
       "      <th>楼层</th>\n",
       "      <th>地区</th>\n",
       "      <th>户型</th>\n",
       "      <th>面积</th>\n",
       "      <th>装修</th>\n",
       "      <th>朝向</th>\n",
       "      <th>类型</th>\n",
       "      <th>房价</th>\n",
       "      <th>总价</th>\n",
       "    </tr>\n",
       "  </thead>\n",
       "  <tbody>\n",
       "    <tr>\n",
       "      <th>0</th>\n",
       "      <td>广益博苑二期婚装2房 急售价格可谈看房随时有钥匙</td>\n",
       "      <td>广益博苑一期、二期</td>\n",
       "      <td>高楼层(共33层)</td>\n",
       "      <td>广益</td>\n",
       "      <td>2室1厅</td>\n",
       "      <td>59.24平米</td>\n",
       "      <td>精装</td>\n",
       "      <td>南</td>\n",
       "      <td>板塔结合</td>\n",
       "      <td>10,973元/平</td>\n",
       "      <td>65.0</td>\n",
       "    </tr>\n",
       "    <tr>\n",
       "      <th>1</th>\n",
       "      <td>我的天！首付12万入住城市CBD主核区！只卖给懂的人！</td>\n",
       "      <td>广南里</td>\n",
       "      <td>中楼层(共7层)</td>\n",
       "      <td>江溪</td>\n",
       "      <td>2室1厅</td>\n",
       "      <td>69.71平米</td>\n",
       "      <td>精装</td>\n",
       "      <td>南</td>\n",
       "      <td>板楼</td>\n",
       "      <td>10,759元/平</td>\n",
       "      <td>75.0</td>\n",
       "    </tr>\n",
       "    <tr>\n",
       "      <th>2</th>\n",
       "      <td>地铁口 商品房 三楼！业主置换 着急卖！三房户型</td>\n",
       "      <td>太湖花园一期</td>\n",
       "      <td>中楼层(共6层)</td>\n",
       "      <td>江溪</td>\n",
       "      <td>2室2厅</td>\n",
       "      <td>90.57平米</td>\n",
       "      <td>精装</td>\n",
       "      <td>南</td>\n",
       "      <td>板楼</td>\n",
       "      <td>10,821元/平</td>\n",
       "      <td>98.0</td>\n",
       "    </tr>\n",
       "    <tr>\n",
       "      <th>3</th>\n",
       "      <td>江大南 绿地天空树 精装修带地暖，D铁口</td>\n",
       "      <td>绿地天空树</td>\n",
       "      <td>中楼层(共33层)</td>\n",
       "      <td>融创文化旅游城</td>\n",
       "      <td>3室2厅</td>\n",
       "      <td>107.71平米</td>\n",
       "      <td>精装</td>\n",
       "      <td>南</td>\n",
       "      <td>板楼</td>\n",
       "      <td>17,176元/平</td>\n",
       "      <td>185.0</td>\n",
       "    </tr>\n",
       "    <tr>\n",
       "      <th>4</th>\n",
       "      <td>全明四房 视野开阔 双阳台 中间楼层</td>\n",
       "      <td>玉兰花园西三区</td>\n",
       "      <td>中楼层(共17层)</td>\n",
       "      <td>海岸城/市民中心</td>\n",
       "      <td>4室2厅</td>\n",
       "      <td>152.89平米</td>\n",
       "      <td>精装</td>\n",
       "      <td>南北</td>\n",
       "      <td>板楼</td>\n",
       "      <td>31,396元/平</td>\n",
       "      <td>480.0</td>\n",
       "    </tr>\n",
       "    <tr>\n",
       "      <th>...</th>\n",
       "      <td>...</td>\n",
       "      <td>...</td>\n",
       "      <td>...</td>\n",
       "      <td>...</td>\n",
       "      <td>...</td>\n",
       "      <td>...</td>\n",
       "      <td>...</td>\n",
       "      <td>...</td>\n",
       "      <td>...</td>\n",
       "      <td>...</td>\n",
       "      <td>...</td>\n",
       "    </tr>\n",
       "    <tr>\n",
       "      <th>2965</th>\n",
       "      <td>新安花苑三房，简装，满五唯一，包土出</td>\n",
       "      <td>新安花苑三区</td>\n",
       "      <td>低楼层(共6层)</td>\n",
       "      <td>新安</td>\n",
       "      <td>3室1厅</td>\n",
       "      <td>91.88平米</td>\n",
       "      <td>简装</td>\n",
       "      <td>南</td>\n",
       "      <td>板塔结合</td>\n",
       "      <td>11,428元/平</td>\n",
       "      <td>105.0</td>\n",
       "    </tr>\n",
       "    <tr>\n",
       "      <th>2966</th>\n",
       "      <td>自住精装修三房视野好房东诚心出售</td>\n",
       "      <td>融创栖溪里</td>\n",
       "      <td>低楼层(共45层)</td>\n",
       "      <td>融创文化旅游城</td>\n",
       "      <td>3室2厅</td>\n",
       "      <td>118.28平米</td>\n",
       "      <td>精装</td>\n",
       "      <td>南</td>\n",
       "      <td>板楼</td>\n",
       "      <td>17,755元/平</td>\n",
       "      <td>210.0</td>\n",
       "    </tr>\n",
       "    <tr>\n",
       "      <th>2967</th>\n",
       "      <td>朗诗 未来感设计 现新房 户型好 环境优美</td>\n",
       "      <td>朗诗未来街区</td>\n",
       "      <td>中楼层(共34层)</td>\n",
       "      <td>临港经济开发区</td>\n",
       "      <td>3室2厅</td>\n",
       "      <td>113.84平米</td>\n",
       "      <td>毛坯</td>\n",
       "      <td>南</td>\n",
       "      <td>塔楼</td>\n",
       "      <td>7,467元/平</td>\n",
       "      <td>85.0</td>\n",
       "    </tr>\n",
       "    <tr>\n",
       "      <th>2968</th>\n",
       "      <td>黄泥头好房出售，诚心卖户型方正采光好，精装</td>\n",
       "      <td>黄泥头佳苑</td>\n",
       "      <td>中楼层(共36层)</td>\n",
       "      <td>广瑞/广丰</td>\n",
       "      <td>2室1厅</td>\n",
       "      <td>84平米</td>\n",
       "      <td>精装</td>\n",
       "      <td>南</td>\n",
       "      <td>板楼</td>\n",
       "      <td>10,953元/平</td>\n",
       "      <td>92.0</td>\n",
       "    </tr>\n",
       "    <tr>\n",
       "      <th>2969</th>\n",
       "      <td>金科集美，房东急售，四房采光无遮挡</td>\n",
       "      <td>金科集美壹品</td>\n",
       "      <td>中楼层(共17层)</td>\n",
       "      <td>钱桥</td>\n",
       "      <td>3室2厅</td>\n",
       "      <td>129.26平米</td>\n",
       "      <td>精装</td>\n",
       "      <td>南</td>\n",
       "      <td>板楼</td>\n",
       "      <td>17,794元/平</td>\n",
       "      <td>230.0</td>\n",
       "    </tr>\n",
       "  </tbody>\n",
       "</table>\n",
       "<p>2970 rows × 11 columns</p>\n",
       "</div>"
      ],
      "text/plain": [
       "                               标题        小区名称         楼层        地区    户型  \\\n",
       "0        广益博苑二期婚装2房 急售价格可谈看房随时有钥匙  广益博苑一期、二期   高楼层(共33层)        广益  2室1厅   \n",
       "1     我的天！首付12万入住城市CBD主核区！只卖给懂的人！        广南里    中楼层(共7层)        江溪  2室1厅   \n",
       "2        地铁口 商品房 三楼！业主置换 着急卖！三房户型     太湖花园一期    中楼层(共6层)        江溪  2室2厅   \n",
       "3            江大南 绿地天空树 精装修带地暖，D铁口      绿地天空树   中楼层(共33层)   融创文化旅游城  3室2厅   \n",
       "4              全明四房 视野开阔 双阳台 中间楼层    玉兰花园西三区   中楼层(共17层)  海岸城/市民中心  4室2厅   \n",
       "...                           ...         ...        ...       ...   ...   \n",
       "2965           新安花苑三房，简装，满五唯一，包土出     新安花苑三区    低楼层(共6层)        新安  3室1厅   \n",
       "2966             自住精装修三房视野好房东诚心出售      融创栖溪里   低楼层(共45层)   融创文化旅游城  3室2厅   \n",
       "2967        朗诗 未来感设计 现新房 户型好 环境优美     朗诗未来街区   中楼层(共34层)   临港经济开发区  3室2厅   \n",
       "2968        黄泥头好房出售，诚心卖户型方正采光好，精装      黄泥头佳苑   中楼层(共36层)     广瑞/广丰  2室1厅   \n",
       "2969            金科集美，房东急售，四房采光无遮挡     金科集美壹品   中楼层(共17层)        钱桥  3室2厅   \n",
       "\n",
       "            面积  装修  朝向    类型         房价     总价  \n",
       "0      59.24平米  精装   南  板塔结合  10,973元/平   65.0  \n",
       "1      69.71平米  精装   南    板楼  10,759元/平   75.0  \n",
       "2      90.57平米  精装   南    板楼  10,821元/平   98.0  \n",
       "3     107.71平米  精装   南    板楼  17,176元/平  185.0  \n",
       "4     152.89平米  精装  南北    板楼  31,396元/平  480.0  \n",
       "...        ...  ..  ..   ...        ...    ...  \n",
       "2965   91.88平米  简装   南  板塔结合  11,428元/平  105.0  \n",
       "2966  118.28平米  精装   南    板楼  17,755元/平  210.0  \n",
       "2967  113.84平米  毛坯   南    塔楼   7,467元/平   85.0  \n",
       "2968      84平米  精装   南    板楼  10,953元/平   92.0  \n",
       "2969  129.26平米  精装   南    板楼  17,794元/平  230.0  \n",
       "\n",
       "[2970 rows x 11 columns]"
      ]
     },
     "execution_count": 8,
     "metadata": {},
     "output_type": "execute_result"
    }
   ],
   "source": [
    "second_hand_houses"
   ]
  },
  {
   "cell_type": "code",
   "execution_count": 9,
   "id": "5f6b04d7",
   "metadata": {
    "ExecuteTime": {
     "end_time": "2024-07-10T04:36:24.509998Z",
     "start_time": "2024-07-10T04:36:24.486475Z"
    }
   },
   "outputs": [],
   "source": [
    "#去除重复项\n",
    "second_hand_houses.drop_duplicates(inplace=True)\n"
   ]
  },
  {
   "cell_type": "code",
   "execution_count": 10,
   "id": "a1218084",
   "metadata": {
    "ExecuteTime": {
     "end_time": "2024-07-10T04:36:24.921798Z",
     "start_time": "2024-07-10T04:36:24.910338Z"
    }
   },
   "outputs": [
    {
     "data": {
      "text/plain": [
       "标题      0\n",
       "小区名称    0\n",
       "楼层      0\n",
       "地区      0\n",
       "户型      0\n",
       "面积      0\n",
       "装修      0\n",
       "朝向      0\n",
       "类型      0\n",
       "房价      0\n",
       "总价      0\n",
       "dtype: int64"
      ]
     },
     "execution_count": 10,
     "metadata": {},
     "output_type": "execute_result"
    }
   ],
   "source": [
    "# 检查缺失值\n",
    "missing_values = second_hand_houses.isnull().sum()\n",
    "missing_values"
   ]
  },
  {
   "cell_type": "code",
   "execution_count": 11,
   "id": "86e9eb1c",
   "metadata": {
    "ExecuteTime": {
     "end_time": "2024-07-10T04:36:25.349290Z",
     "start_time": "2024-07-10T04:36:25.333696Z"
    }
   },
   "outputs": [],
   "source": [
    "# 修改数据格式\n",
    "# 移除 '元/平' 并将逗号替换为空\n",
    "second_hand_houses['房价'] = second_hand_houses['房价'].str.replace('元/平', '').str.replace(',', '')\n",
    "# 转换为浮点数\n",
    "second_hand_houses['房价'] = second_hand_houses['房价'].astype(float)\n",
    "\n",
    "# 移除 '平米' 并替换为空\n",
    "second_hand_houses['面积'] = second_hand_houses['面积'].str.replace('平米', '')\n",
    "# 转换为浮点数\n",
    "second_hand_houses['面积'] = second_hand_houses['面积'].astype(float)"
   ]
  },
  {
   "cell_type": "code",
   "execution_count": 12,
   "id": "341f1912",
   "metadata": {
    "ExecuteTime": {
     "end_time": "2024-07-10T04:36:25.737376Z",
     "start_time": "2024-07-10T04:36:25.717695Z"
    },
    "scrolled": true
   },
   "outputs": [
    {
     "name": "stdout",
     "output_type": "stream",
     "text": [
      "<class 'pandas.core.frame.DataFrame'>\n",
      "Index: 2305 entries, 0 to 2969\n",
      "Data columns (total 11 columns):\n",
      " #   Column  Non-Null Count  Dtype  \n",
      "---  ------  --------------  -----  \n",
      " 0   标题      2305 non-null   object \n",
      " 1   小区名称    2305 non-null   object \n",
      " 2   楼层      2305 non-null   object \n",
      " 3   地区      2305 non-null   object \n",
      " 4   户型      2305 non-null   object \n",
      " 5   面积      2305 non-null   float64\n",
      " 6   装修      2305 non-null   object \n",
      " 7   朝向      2305 non-null   object \n",
      " 8   类型      2305 non-null   object \n",
      " 9   房价      2305 non-null   float64\n",
      " 10  总价      2305 non-null   float64\n",
      "dtypes: float64(3), object(8)\n",
      "memory usage: 216.1+ KB\n"
     ]
    }
   ],
   "source": [
    "# 检查数据类型\n",
    "second_hand_houses.info()"
   ]
  },
  {
   "cell_type": "markdown",
   "id": "e6aa2604",
   "metadata": {},
   "source": [
    "## 新房数据清洗"
   ]
  },
  {
   "cell_type": "code",
   "execution_count": 39,
   "id": "db434225",
   "metadata": {
    "ExecuteTime": {
     "end_time": "2024-07-09T02:57:27.457140Z",
     "start_time": "2024-07-09T02:57:27.437754Z"
    }
   },
   "outputs": [
    {
     "data": {
      "text/html": [
       "<div>\n",
       "<style scoped>\n",
       "    .dataframe tbody tr th:only-of-type {\n",
       "        vertical-align: middle;\n",
       "    }\n",
       "\n",
       "    .dataframe tbody tr th {\n",
       "        vertical-align: top;\n",
       "    }\n",
       "\n",
       "    .dataframe thead th {\n",
       "        text-align: right;\n",
       "    }\n",
       "</style>\n",
       "<table border=\"1\" class=\"dataframe\">\n",
       "  <thead>\n",
       "    <tr style=\"text-align: right;\">\n",
       "      <th></th>\n",
       "      <th>标签</th>\n",
       "      <th>地区</th>\n",
       "      <th>地址</th>\n",
       "      <th>小区</th>\n",
       "      <th>均价</th>\n",
       "      <th>房子类型</th>\n",
       "      <th>开盘时间</th>\n",
       "    </tr>\n",
       "  </thead>\n",
       "  <tbody>\n",
       "    <tr>\n",
       "      <th>0</th>\n",
       "      <td>['车位充足', '低密居所', '置换改善', '养老舒适']</td>\n",
       "      <td>锡山</td>\n",
       "      <td>无锡市锡山区锡东新城东翔路与新韵北路交会处</td>\n",
       "      <td>美的云璟</td>\n",
       "      <td>23000</td>\n",
       "      <td>NaN</td>\n",
       "      <td>0000-00-00 00:00:00</td>\n",
       "    </tr>\n",
       "    <tr>\n",
       "      <th>1</th>\n",
       "      <td>['绿化率高', '人车分流', '国央企', '品牌房企']</td>\n",
       "      <td>惠山</td>\n",
       "      <td>江苏省无锡市惠山区钱洛路</td>\n",
       "      <td>云上四季</td>\n",
       "      <td>15500</td>\n",
       "      <td>非毛坯</td>\n",
       "      <td>0000-00-00 00:00:00</td>\n",
       "    </tr>\n",
       "    <tr>\n",
       "      <th>2</th>\n",
       "      <td>['车位充足', '绿化率高', '自持商业', '近地铁']</td>\n",
       "      <td>锡山</td>\n",
       "      <td>锡山区丹山路145号</td>\n",
       "      <td>海尔产城创翡翠文华</td>\n",
       "      <td>19000</td>\n",
       "      <td>非毛坯</td>\n",
       "      <td>2020-04-30 10:46:58</td>\n",
       "    </tr>\n",
       "    <tr>\n",
       "      <th>3</th>\n",
       "      <td>['大型社区', '品牌房企', '旅游地产', '近地铁']</td>\n",
       "      <td>新吴</td>\n",
       "      <td>锡山大道与纺城大道交叉口（九里河公园地铁站旁）</td>\n",
       "      <td>上城壹号</td>\n",
       "      <td>18000</td>\n",
       "      <td>非毛坯</td>\n",
       "      <td>2020-10-14 16:21:58</td>\n",
       "    </tr>\n",
       "    <tr>\n",
       "      <th>4</th>\n",
       "      <td>['人车分流', '大型社区', '品牌房企', '贴心物业']</td>\n",
       "      <td>梁溪</td>\n",
       "      <td>江海西路888号（梁溪区江海西路与会岸路交汇处）</td>\n",
       "      <td>海伦堡·梁溪本源</td>\n",
       "      <td>18000</td>\n",
       "      <td>非毛坯</td>\n",
       "      <td>2019-12-27 09:29:43</td>\n",
       "    </tr>\n",
       "    <tr>\n",
       "      <th>...</th>\n",
       "      <td>...</td>\n",
       "      <td>...</td>\n",
       "      <td>...</td>\n",
       "      <td>...</td>\n",
       "      <td>...</td>\n",
       "      <td>...</td>\n",
       "      <td>...</td>\n",
       "    </tr>\n",
       "    <tr>\n",
       "      <th>151</th>\n",
       "      <td>['车位充足', '人车分流', '国央企', '品牌房企']</td>\n",
       "      <td>梁溪</td>\n",
       "      <td>全丰路玖礼檀樾</td>\n",
       "      <td>玖礼檀樾</td>\n",
       "      <td>21500</td>\n",
       "      <td>非毛坯</td>\n",
       "      <td>0000-00-00 00:00:00</td>\n",
       "    </tr>\n",
       "    <tr>\n",
       "      <th>152</th>\n",
       "      <td>['车位充足', '人车分流', '置换改善', '品牌房企']</td>\n",
       "      <td>梁溪</td>\n",
       "      <td>无锡梁溪区南长运河西路与建运路交叉口东南侧</td>\n",
       "      <td>十里上棠</td>\n",
       "      <td>40000</td>\n",
       "      <td>非毛坯</td>\n",
       "      <td>0000-00-00 00:00:00</td>\n",
       "    </tr>\n",
       "    <tr>\n",
       "      <th>153</th>\n",
       "      <td>['车位充足', '低密居所', '国央企', '置换改善']</td>\n",
       "      <td>梁溪</td>\n",
       "      <td>梁溪区南湖大道与芦雅路交叉口西北侧</td>\n",
       "      <td>云上诗悦</td>\n",
       "      <td>26000</td>\n",
       "      <td>非毛坯</td>\n",
       "      <td>0000-00-00 00:00:00</td>\n",
       "    </tr>\n",
       "    <tr>\n",
       "      <th>154</th>\n",
       "      <td>['车位充足', '人车分流', '国央企', '置换改善']</td>\n",
       "      <td>滨湖</td>\n",
       "      <td>江苏省无锡市滨湖区南湖大道和震泽路交汇处</td>\n",
       "      <td>雲湖别院</td>\n",
       "      <td>42000</td>\n",
       "      <td>非毛坯</td>\n",
       "      <td>0000-00-00 00:00:00</td>\n",
       "    </tr>\n",
       "    <tr>\n",
       "      <th>155</th>\n",
       "      <td>['优惠楼盘', '车位充足', '人车分流', '置换改善']</td>\n",
       "      <td>滨湖</td>\n",
       "      <td>刘闾路小田里生活园</td>\n",
       "      <td>小田里生活园</td>\n",
       "      <td>25000</td>\n",
       "      <td>毛坯</td>\n",
       "      <td>0000-00-00 00:00:00</td>\n",
       "    </tr>\n",
       "  </tbody>\n",
       "</table>\n",
       "<p>156 rows × 7 columns</p>\n",
       "</div>"
      ],
      "text/plain": [
       "                                   标签  地区                        地址  \\\n",
       "0    ['车位充足', '低密居所', '置换改善', '养老舒适']  锡山     无锡市锡山区锡东新城东翔路与新韵北路交会处   \n",
       "1     ['绿化率高', '人车分流', '国央企', '品牌房企']  惠山              江苏省无锡市惠山区钱洛路   \n",
       "2     ['车位充足', '绿化率高', '自持商业', '近地铁']  锡山                锡山区丹山路145号   \n",
       "3     ['大型社区', '品牌房企', '旅游地产', '近地铁']  新吴   锡山大道与纺城大道交叉口（九里河公园地铁站旁）   \n",
       "4    ['人车分流', '大型社区', '品牌房企', '贴心物业']  梁溪  江海西路888号（梁溪区江海西路与会岸路交汇处）   \n",
       "..                                ...  ..                       ...   \n",
       "151   ['车位充足', '人车分流', '国央企', '品牌房企']  梁溪                   全丰路玖礼檀樾   \n",
       "152  ['车位充足', '人车分流', '置换改善', '品牌房企']  梁溪     无锡梁溪区南长运河西路与建运路交叉口东南侧   \n",
       "153   ['车位充足', '低密居所', '国央企', '置换改善']  梁溪         梁溪区南湖大道与芦雅路交叉口西北侧   \n",
       "154   ['车位充足', '人车分流', '国央企', '置换改善']  滨湖      江苏省无锡市滨湖区南湖大道和震泽路交汇处   \n",
       "155  ['优惠楼盘', '车位充足', '人车分流', '置换改善']  滨湖                 刘闾路小田里生活园   \n",
       "\n",
       "            小区     均价 房子类型                 开盘时间  \n",
       "0         美的云璟  23000  NaN  0000-00-00 00:00:00  \n",
       "1         云上四季  15500  非毛坯  0000-00-00 00:00:00  \n",
       "2    海尔产城创翡翠文华  19000  非毛坯  2020-04-30 10:46:58  \n",
       "3         上城壹号  18000  非毛坯  2020-10-14 16:21:58  \n",
       "4     海伦堡·梁溪本源  18000  非毛坯  2019-12-27 09:29:43  \n",
       "..         ...    ...  ...                  ...  \n",
       "151       玖礼檀樾  21500  非毛坯  0000-00-00 00:00:00  \n",
       "152       十里上棠  40000  非毛坯  0000-00-00 00:00:00  \n",
       "153       云上诗悦  26000  非毛坯  0000-00-00 00:00:00  \n",
       "154       雲湖别院  42000  非毛坯  0000-00-00 00:00:00  \n",
       "155     小田里生活园  25000   毛坯  0000-00-00 00:00:00  \n",
       "\n",
       "[156 rows x 7 columns]"
      ]
     },
     "execution_count": 39,
     "metadata": {},
     "output_type": "execute_result"
    }
   ],
   "source": [
    "new_houses"
   ]
  },
  {
   "cell_type": "code",
   "execution_count": 40,
   "id": "37421354",
   "metadata": {
    "ExecuteTime": {
     "end_time": "2024-07-09T02:57:27.469717Z",
     "start_time": "2024-07-09T02:57:27.459173Z"
    }
   },
   "outputs": [],
   "source": [
    "# 去除重复值\n",
    "new_houses.drop_duplicates(inplace=True)"
   ]
  },
  {
   "cell_type": "code",
   "execution_count": 41,
   "id": "777970ee",
   "metadata": {
    "ExecuteTime": {
     "end_time": "2024-07-09T02:57:27.487964Z",
     "start_time": "2024-07-09T02:57:27.470268Z"
    }
   },
   "outputs": [
    {
     "data": {
      "text/plain": [
       "标签      0\n",
       "地区      0\n",
       "地址      0\n",
       "小区      0\n",
       "均价      0\n",
       "房子类型    4\n",
       "开盘时间    0\n",
       "dtype: int64"
      ]
     },
     "execution_count": 41,
     "metadata": {},
     "output_type": "execute_result"
    }
   ],
   "source": [
    "# 检查缺失值\n",
    "miss_new_values = new_houses.isnull().sum()\n",
    "miss_new_values"
   ]
  },
  {
   "cell_type": "code",
   "execution_count": 42,
   "id": "52073d3f",
   "metadata": {
    "ExecuteTime": {
     "end_time": "2024-07-09T02:57:27.501525Z",
     "start_time": "2024-07-09T02:57:27.491982Z"
    }
   },
   "outputs": [
    {
     "name": "stdout",
     "output_type": "stream",
     "text": [
      "Index([0, 81, 92, 102], dtype='int64')\n"
     ]
    }
   ],
   "source": [
    "# 查找缺失值位置\n",
    "missing_indices = new_houses[new_houses['房子类型'].isnull()].index\n",
    "print(missing_indices)"
   ]
  },
  {
   "cell_type": "code",
   "execution_count": 43,
   "id": "e50fbe28",
   "metadata": {
    "ExecuteTime": {
     "end_time": "2024-07-09T02:57:27.516915Z",
     "start_time": "2024-07-09T02:57:27.506587Z"
    }
   },
   "outputs": [
    {
     "name": "stdout",
     "output_type": "stream",
     "text": [
      "Index: 0, Value: 美的云璟\n",
      "Index: 81, Value: 华润置地悦景湾\n",
      "Index: 92, Value: 华润置地悦景湾\n",
      "Index: 102, Value: 中信泰富锦辰\n"
     ]
    }
   ],
   "source": [
    "# 查看缺失值小区名称，手动填写缺失值\n",
    "indices = [0, 81, 92, 102]  \n",
    "\n",
    "for idx in indices:\n",
    "    value = new_houses.loc[idx, '小区']\n",
    "    print(f'Index: {idx}, Value: {value}')"
   ]
  },
  {
   "cell_type": "code",
   "execution_count": 44,
   "id": "7c215137",
   "metadata": {
    "ExecuteTime": {
     "end_time": "2024-07-09T02:57:27.538705Z",
     "start_time": "2024-07-09T02:57:27.521487Z"
    }
   },
   "outputs": [
    {
     "name": "stdout",
     "output_type": "stream",
     "text": [
      "标签      ['车位充足', '低密居所', '国央企', '置换改善']\n",
      "地区                                   锡山\n",
      "地址                  江苏省无锡市锡山区X205(新韵北路)\n",
      "小区                              华润置地悦景湾\n",
      "均价                                27850\n",
      "房子类型                                NaN\n",
      "开盘时间                0000-00-00 00:00:00\n",
      "Name: 81, dtype: object\n",
      "标签      ['车位充足', '人车分流', '国央企', '置换改善']\n",
      "地区                                   锡山\n",
      "地址                  江苏省无锡市锡山区X205(新韵北路)\n",
      "小区                              华润置地悦景湾\n",
      "均价                                29000\n",
      "房子类型                                NaN\n",
      "开盘时间                0000-00-00 00:00:00\n",
      "Name: 92, dtype: object\n"
     ]
    }
   ],
   "source": [
    "# 有两个小区名字重复，检查重复值\n",
    "print(new_houses.loc[81])\n",
    "print(new_houses.loc[92])"
   ]
  },
  {
   "cell_type": "code",
   "execution_count": 45,
   "id": "54051f4c",
   "metadata": {
    "ExecuteTime": {
     "end_time": "2024-07-09T02:57:27.550991Z",
     "start_time": "2024-07-09T02:57:27.542690Z"
    }
   },
   "outputs": [],
   "source": [
    "# 修改Nan值\n",
    "new_houses.loc[0, '房子类型'] = '毛坯'\n",
    "new_houses.loc[81, '房子类型'] = '毛坯'\n",
    "new_houses.loc[102, '房子类型'] = '非毛坯'"
   ]
  },
  {
   "cell_type": "code",
   "execution_count": 46,
   "id": "9c0ea85b",
   "metadata": {
    "ExecuteTime": {
     "end_time": "2024-07-09T02:57:27.566521Z",
     "start_time": "2024-07-09T02:57:27.555931Z"
    }
   },
   "outputs": [],
   "source": [
    "# 删除重复值\n",
    "new_houses = new_houses.drop(92)"
   ]
  },
  {
   "cell_type": "code",
   "execution_count": 47,
   "id": "ee1734ce",
   "metadata": {
    "ExecuteTime": {
     "end_time": "2024-07-09T02:57:27.596464Z",
     "start_time": "2024-07-09T02:57:27.569388Z"
    }
   },
   "outputs": [
    {
     "data": {
      "text/html": [
       "<div>\n",
       "<style scoped>\n",
       "    .dataframe tbody tr th:only-of-type {\n",
       "        vertical-align: middle;\n",
       "    }\n",
       "\n",
       "    .dataframe tbody tr th {\n",
       "        vertical-align: top;\n",
       "    }\n",
       "\n",
       "    .dataframe thead th {\n",
       "        text-align: right;\n",
       "    }\n",
       "</style>\n",
       "<table border=\"1\" class=\"dataframe\">\n",
       "  <thead>\n",
       "    <tr style=\"text-align: right;\">\n",
       "      <th></th>\n",
       "      <th>标签</th>\n",
       "      <th>地区</th>\n",
       "      <th>地址</th>\n",
       "      <th>小区</th>\n",
       "      <th>均价</th>\n",
       "      <th>房子类型</th>\n",
       "      <th>开盘时间</th>\n",
       "    </tr>\n",
       "  </thead>\n",
       "  <tbody>\n",
       "    <tr>\n",
       "      <th>0</th>\n",
       "      <td>['车位充足', '低密居所', '置换改善', '养老舒适']</td>\n",
       "      <td>锡山</td>\n",
       "      <td>无锡市锡山区锡东新城东翔路与新韵北路交会处</td>\n",
       "      <td>美的云璟</td>\n",
       "      <td>23000</td>\n",
       "      <td>毛坯</td>\n",
       "      <td>0000-00-00 00:00:00</td>\n",
       "    </tr>\n",
       "    <tr>\n",
       "      <th>1</th>\n",
       "      <td>['绿化率高', '人车分流', '国央企', '品牌房企']</td>\n",
       "      <td>惠山</td>\n",
       "      <td>江苏省无锡市惠山区钱洛路</td>\n",
       "      <td>云上四季</td>\n",
       "      <td>15500</td>\n",
       "      <td>非毛坯</td>\n",
       "      <td>0000-00-00 00:00:00</td>\n",
       "    </tr>\n",
       "    <tr>\n",
       "      <th>2</th>\n",
       "      <td>['车位充足', '绿化率高', '自持商业', '近地铁']</td>\n",
       "      <td>锡山</td>\n",
       "      <td>锡山区丹山路145号</td>\n",
       "      <td>海尔产城创翡翠文华</td>\n",
       "      <td>19000</td>\n",
       "      <td>非毛坯</td>\n",
       "      <td>2020-04-30 10:46:58</td>\n",
       "    </tr>\n",
       "    <tr>\n",
       "      <th>3</th>\n",
       "      <td>['大型社区', '品牌房企', '旅游地产', '近地铁']</td>\n",
       "      <td>新吴</td>\n",
       "      <td>锡山大道与纺城大道交叉口（九里河公园地铁站旁）</td>\n",
       "      <td>上城壹号</td>\n",
       "      <td>18000</td>\n",
       "      <td>非毛坯</td>\n",
       "      <td>2020-10-14 16:21:58</td>\n",
       "    </tr>\n",
       "    <tr>\n",
       "      <th>4</th>\n",
       "      <td>['人车分流', '大型社区', '品牌房企', '贴心物业']</td>\n",
       "      <td>梁溪</td>\n",
       "      <td>江海西路888号（梁溪区江海西路与会岸路交汇处）</td>\n",
       "      <td>海伦堡·梁溪本源</td>\n",
       "      <td>18000</td>\n",
       "      <td>非毛坯</td>\n",
       "      <td>2019-12-27 09:29:43</td>\n",
       "    </tr>\n",
       "    <tr>\n",
       "      <th>...</th>\n",
       "      <td>...</td>\n",
       "      <td>...</td>\n",
       "      <td>...</td>\n",
       "      <td>...</td>\n",
       "      <td>...</td>\n",
       "      <td>...</td>\n",
       "      <td>...</td>\n",
       "    </tr>\n",
       "    <tr>\n",
       "      <th>150</th>\n",
       "      <td>['优惠楼盘', '车位充足', '低密居所', '国央企']</td>\n",
       "      <td>梁溪</td>\n",
       "      <td>梁溪区通江大道与锡沪路交汇处</td>\n",
       "      <td>熙悦春秋</td>\n",
       "      <td>27000</td>\n",
       "      <td>非毛坯</td>\n",
       "      <td>0000-00-00 00:00:00</td>\n",
       "    </tr>\n",
       "    <tr>\n",
       "      <th>151</th>\n",
       "      <td>['车位充足', '人车分流', '国央企', '品牌房企']</td>\n",
       "      <td>梁溪</td>\n",
       "      <td>全丰路玖礼檀樾</td>\n",
       "      <td>玖礼檀樾</td>\n",
       "      <td>21500</td>\n",
       "      <td>非毛坯</td>\n",
       "      <td>0000-00-00 00:00:00</td>\n",
       "    </tr>\n",
       "    <tr>\n",
       "      <th>152</th>\n",
       "      <td>['车位充足', '人车分流', '置换改善', '品牌房企']</td>\n",
       "      <td>梁溪</td>\n",
       "      <td>无锡梁溪区南长运河西路与建运路交叉口东南侧</td>\n",
       "      <td>十里上棠</td>\n",
       "      <td>40000</td>\n",
       "      <td>非毛坯</td>\n",
       "      <td>0000-00-00 00:00:00</td>\n",
       "    </tr>\n",
       "    <tr>\n",
       "      <th>153</th>\n",
       "      <td>['车位充足', '低密居所', '国央企', '置换改善']</td>\n",
       "      <td>梁溪</td>\n",
       "      <td>梁溪区南湖大道与芦雅路交叉口西北侧</td>\n",
       "      <td>云上诗悦</td>\n",
       "      <td>26000</td>\n",
       "      <td>非毛坯</td>\n",
       "      <td>0000-00-00 00:00:00</td>\n",
       "    </tr>\n",
       "    <tr>\n",
       "      <th>155</th>\n",
       "      <td>['优惠楼盘', '车位充足', '人车分流', '置换改善']</td>\n",
       "      <td>滨湖</td>\n",
       "      <td>刘闾路小田里生活园</td>\n",
       "      <td>小田里生活园</td>\n",
       "      <td>25000</td>\n",
       "      <td>毛坯</td>\n",
       "      <td>0000-00-00 00:00:00</td>\n",
       "    </tr>\n",
       "  </tbody>\n",
       "</table>\n",
       "<p>134 rows × 7 columns</p>\n",
       "</div>"
      ],
      "text/plain": [
       "                                   标签  地区                        地址  \\\n",
       "0    ['车位充足', '低密居所', '置换改善', '养老舒适']  锡山     无锡市锡山区锡东新城东翔路与新韵北路交会处   \n",
       "1     ['绿化率高', '人车分流', '国央企', '品牌房企']  惠山              江苏省无锡市惠山区钱洛路   \n",
       "2     ['车位充足', '绿化率高', '自持商业', '近地铁']  锡山                锡山区丹山路145号   \n",
       "3     ['大型社区', '品牌房企', '旅游地产', '近地铁']  新吴   锡山大道与纺城大道交叉口（九里河公园地铁站旁）   \n",
       "4    ['人车分流', '大型社区', '品牌房企', '贴心物业']  梁溪  江海西路888号（梁溪区江海西路与会岸路交汇处）   \n",
       "..                                ...  ..                       ...   \n",
       "150   ['优惠楼盘', '车位充足', '低密居所', '国央企']  梁溪            梁溪区通江大道与锡沪路交汇处   \n",
       "151   ['车位充足', '人车分流', '国央企', '品牌房企']  梁溪                   全丰路玖礼檀樾   \n",
       "152  ['车位充足', '人车分流', '置换改善', '品牌房企']  梁溪     无锡梁溪区南长运河西路与建运路交叉口东南侧   \n",
       "153   ['车位充足', '低密居所', '国央企', '置换改善']  梁溪         梁溪区南湖大道与芦雅路交叉口西北侧   \n",
       "155  ['优惠楼盘', '车位充足', '人车分流', '置换改善']  滨湖                 刘闾路小田里生活园   \n",
       "\n",
       "            小区     均价 房子类型                 开盘时间  \n",
       "0         美的云璟  23000   毛坯  0000-00-00 00:00:00  \n",
       "1         云上四季  15500  非毛坯  0000-00-00 00:00:00  \n",
       "2    海尔产城创翡翠文华  19000  非毛坯  2020-04-30 10:46:58  \n",
       "3         上城壹号  18000  非毛坯  2020-10-14 16:21:58  \n",
       "4     海伦堡·梁溪本源  18000  非毛坯  2019-12-27 09:29:43  \n",
       "..         ...    ...  ...                  ...  \n",
       "150       熙悦春秋  27000  非毛坯  0000-00-00 00:00:00  \n",
       "151       玖礼檀樾  21500  非毛坯  0000-00-00 00:00:00  \n",
       "152       十里上棠  40000  非毛坯  0000-00-00 00:00:00  \n",
       "153       云上诗悦  26000  非毛坯  0000-00-00 00:00:00  \n",
       "155     小田里生活园  25000   毛坯  0000-00-00 00:00:00  \n",
       "\n",
       "[134 rows x 7 columns]"
      ]
     },
     "execution_count": 47,
     "metadata": {},
     "output_type": "execute_result"
    }
   ],
   "source": [
    "# 删除’小区‘中其他的重复值\n",
    "new_houses.drop_duplicates(subset='小区', keep='first', inplace=True)\n",
    "new_houses"
   ]
  },
  {
   "cell_type": "code",
   "execution_count": 48,
   "id": "e96eb1c0",
   "metadata": {
    "ExecuteTime": {
     "end_time": "2024-07-09T02:57:27.607284Z",
     "start_time": "2024-07-09T02:57:27.598800Z"
    }
   },
   "outputs": [],
   "source": [
    "# 将时间空值转换为’时间待定‘\n",
    "def replace_invalid_date(date):\n",
    "    if date == '0000-00-00 00:00:00':\n",
    "        return '时间待定'\n",
    "    return date\n",
    "\n",
    "new_houses['开盘时间'] = new_houses['开盘时间'].apply(replace_invalid_date)"
   ]
  },
  {
   "cell_type": "code",
   "execution_count": 49,
   "id": "e8ee8474",
   "metadata": {
    "ExecuteTime": {
     "end_time": "2024-07-09T02:57:27.633405Z",
     "start_time": "2024-07-09T02:57:27.610380Z"
    }
   },
   "outputs": [
    {
     "data": {
      "text/html": [
       "<div>\n",
       "<style scoped>\n",
       "    .dataframe tbody tr th:only-of-type {\n",
       "        vertical-align: middle;\n",
       "    }\n",
       "\n",
       "    .dataframe tbody tr th {\n",
       "        vertical-align: top;\n",
       "    }\n",
       "\n",
       "    .dataframe thead th {\n",
       "        text-align: right;\n",
       "    }\n",
       "</style>\n",
       "<table border=\"1\" class=\"dataframe\">\n",
       "  <thead>\n",
       "    <tr style=\"text-align: right;\">\n",
       "      <th></th>\n",
       "      <th>标签</th>\n",
       "      <th>地区</th>\n",
       "      <th>地址</th>\n",
       "      <th>小区</th>\n",
       "      <th>均价</th>\n",
       "      <th>房子类型</th>\n",
       "      <th>开盘时间</th>\n",
       "    </tr>\n",
       "  </thead>\n",
       "  <tbody>\n",
       "    <tr>\n",
       "      <th>0</th>\n",
       "      <td>['车位充足', '低密居所', '置换改善', '养老舒适']</td>\n",
       "      <td>锡山</td>\n",
       "      <td>无锡市锡山区锡东新城东翔路与新韵北路交会处</td>\n",
       "      <td>美的云璟</td>\n",
       "      <td>23000</td>\n",
       "      <td>毛坯</td>\n",
       "      <td>时间待定</td>\n",
       "    </tr>\n",
       "    <tr>\n",
       "      <th>1</th>\n",
       "      <td>['绿化率高', '人车分流', '国央企', '品牌房企']</td>\n",
       "      <td>惠山</td>\n",
       "      <td>江苏省无锡市惠山区钱洛路</td>\n",
       "      <td>云上四季</td>\n",
       "      <td>15500</td>\n",
       "      <td>非毛坯</td>\n",
       "      <td>时间待定</td>\n",
       "    </tr>\n",
       "    <tr>\n",
       "      <th>2</th>\n",
       "      <td>['车位充足', '绿化率高', '自持商业', '近地铁']</td>\n",
       "      <td>锡山</td>\n",
       "      <td>锡山区丹山路145号</td>\n",
       "      <td>海尔产城创翡翠文华</td>\n",
       "      <td>19000</td>\n",
       "      <td>非毛坯</td>\n",
       "      <td>2020-04-30 10:46:58</td>\n",
       "    </tr>\n",
       "    <tr>\n",
       "      <th>3</th>\n",
       "      <td>['大型社区', '品牌房企', '旅游地产', '近地铁']</td>\n",
       "      <td>新吴</td>\n",
       "      <td>锡山大道与纺城大道交叉口（九里河公园地铁站旁）</td>\n",
       "      <td>上城壹号</td>\n",
       "      <td>18000</td>\n",
       "      <td>非毛坯</td>\n",
       "      <td>2020-10-14 16:21:58</td>\n",
       "    </tr>\n",
       "    <tr>\n",
       "      <th>4</th>\n",
       "      <td>['人车分流', '大型社区', '品牌房企', '贴心物业']</td>\n",
       "      <td>梁溪</td>\n",
       "      <td>江海西路888号（梁溪区江海西路与会岸路交汇处）</td>\n",
       "      <td>海伦堡·梁溪本源</td>\n",
       "      <td>18000</td>\n",
       "      <td>非毛坯</td>\n",
       "      <td>2019-12-27 09:29:43</td>\n",
       "    </tr>\n",
       "    <tr>\n",
       "      <th>...</th>\n",
       "      <td>...</td>\n",
       "      <td>...</td>\n",
       "      <td>...</td>\n",
       "      <td>...</td>\n",
       "      <td>...</td>\n",
       "      <td>...</td>\n",
       "      <td>...</td>\n",
       "    </tr>\n",
       "    <tr>\n",
       "      <th>150</th>\n",
       "      <td>['优惠楼盘', '车位充足', '低密居所', '国央企']</td>\n",
       "      <td>梁溪</td>\n",
       "      <td>梁溪区通江大道与锡沪路交汇处</td>\n",
       "      <td>熙悦春秋</td>\n",
       "      <td>27000</td>\n",
       "      <td>非毛坯</td>\n",
       "      <td>时间待定</td>\n",
       "    </tr>\n",
       "    <tr>\n",
       "      <th>151</th>\n",
       "      <td>['车位充足', '人车分流', '国央企', '品牌房企']</td>\n",
       "      <td>梁溪</td>\n",
       "      <td>全丰路玖礼檀樾</td>\n",
       "      <td>玖礼檀樾</td>\n",
       "      <td>21500</td>\n",
       "      <td>非毛坯</td>\n",
       "      <td>时间待定</td>\n",
       "    </tr>\n",
       "    <tr>\n",
       "      <th>152</th>\n",
       "      <td>['车位充足', '人车分流', '置换改善', '品牌房企']</td>\n",
       "      <td>梁溪</td>\n",
       "      <td>无锡梁溪区南长运河西路与建运路交叉口东南侧</td>\n",
       "      <td>十里上棠</td>\n",
       "      <td>40000</td>\n",
       "      <td>非毛坯</td>\n",
       "      <td>时间待定</td>\n",
       "    </tr>\n",
       "    <tr>\n",
       "      <th>153</th>\n",
       "      <td>['车位充足', '低密居所', '国央企', '置换改善']</td>\n",
       "      <td>梁溪</td>\n",
       "      <td>梁溪区南湖大道与芦雅路交叉口西北侧</td>\n",
       "      <td>云上诗悦</td>\n",
       "      <td>26000</td>\n",
       "      <td>非毛坯</td>\n",
       "      <td>时间待定</td>\n",
       "    </tr>\n",
       "    <tr>\n",
       "      <th>155</th>\n",
       "      <td>['优惠楼盘', '车位充足', '人车分流', '置换改善']</td>\n",
       "      <td>滨湖</td>\n",
       "      <td>刘闾路小田里生活园</td>\n",
       "      <td>小田里生活园</td>\n",
       "      <td>25000</td>\n",
       "      <td>毛坯</td>\n",
       "      <td>时间待定</td>\n",
       "    </tr>\n",
       "  </tbody>\n",
       "</table>\n",
       "<p>134 rows × 7 columns</p>\n",
       "</div>"
      ],
      "text/plain": [
       "                                   标签  地区                        地址  \\\n",
       "0    ['车位充足', '低密居所', '置换改善', '养老舒适']  锡山     无锡市锡山区锡东新城东翔路与新韵北路交会处   \n",
       "1     ['绿化率高', '人车分流', '国央企', '品牌房企']  惠山              江苏省无锡市惠山区钱洛路   \n",
       "2     ['车位充足', '绿化率高', '自持商业', '近地铁']  锡山                锡山区丹山路145号   \n",
       "3     ['大型社区', '品牌房企', '旅游地产', '近地铁']  新吴   锡山大道与纺城大道交叉口（九里河公园地铁站旁）   \n",
       "4    ['人车分流', '大型社区', '品牌房企', '贴心物业']  梁溪  江海西路888号（梁溪区江海西路与会岸路交汇处）   \n",
       "..                                ...  ..                       ...   \n",
       "150   ['优惠楼盘', '车位充足', '低密居所', '国央企']  梁溪            梁溪区通江大道与锡沪路交汇处   \n",
       "151   ['车位充足', '人车分流', '国央企', '品牌房企']  梁溪                   全丰路玖礼檀樾   \n",
       "152  ['车位充足', '人车分流', '置换改善', '品牌房企']  梁溪     无锡梁溪区南长运河西路与建运路交叉口东南侧   \n",
       "153   ['车位充足', '低密居所', '国央企', '置换改善']  梁溪         梁溪区南湖大道与芦雅路交叉口西北侧   \n",
       "155  ['优惠楼盘', '车位充足', '人车分流', '置换改善']  滨湖                 刘闾路小田里生活园   \n",
       "\n",
       "            小区     均价 房子类型                 开盘时间  \n",
       "0         美的云璟  23000   毛坯                 时间待定  \n",
       "1         云上四季  15500  非毛坯                 时间待定  \n",
       "2    海尔产城创翡翠文华  19000  非毛坯  2020-04-30 10:46:58  \n",
       "3         上城壹号  18000  非毛坯  2020-10-14 16:21:58  \n",
       "4     海伦堡·梁溪本源  18000  非毛坯  2019-12-27 09:29:43  \n",
       "..         ...    ...  ...                  ...  \n",
       "150       熙悦春秋  27000  非毛坯                 时间待定  \n",
       "151       玖礼檀樾  21500  非毛坯                 时间待定  \n",
       "152       十里上棠  40000  非毛坯                 时间待定  \n",
       "153       云上诗悦  26000  非毛坯                 时间待定  \n",
       "155     小田里生活园  25000   毛坯                 时间待定  \n",
       "\n",
       "[134 rows x 7 columns]"
      ]
     },
     "execution_count": 49,
     "metadata": {},
     "output_type": "execute_result"
    }
   ],
   "source": [
    "new_houses"
   ]
  },
  {
   "cell_type": "code",
   "execution_count": 50,
   "id": "8efb9848",
   "metadata": {
    "ExecuteTime": {
     "end_time": "2024-07-09T02:57:27.660035Z",
     "start_time": "2024-07-09T02:57:27.636479Z"
    }
   },
   "outputs": [
    {
     "name": "stdout",
     "output_type": "stream",
     "text": [
      "<class 'pandas.core.frame.DataFrame'>\n",
      "Index: 134 entries, 0 to 155\n",
      "Data columns (total 7 columns):\n",
      " #   Column  Non-Null Count  Dtype \n",
      "---  ------  --------------  ----- \n",
      " 0   标签      134 non-null    object\n",
      " 1   地区      134 non-null    object\n",
      " 2   地址      134 non-null    object\n",
      " 3   小区      134 non-null    object\n",
      " 4   均价      134 non-null    int64 \n",
      " 5   房子类型    134 non-null    object\n",
      " 6   开盘时间    134 non-null    object\n",
      "dtypes: int64(1), object(6)\n",
      "memory usage: 8.4+ KB\n"
     ]
    }
   ],
   "source": [
    "# 检查数据类型\n",
    "new_houses.info()"
   ]
  },
  {
   "cell_type": "code",
   "execution_count": 51,
   "id": "bdfae619",
   "metadata": {
    "ExecuteTime": {
     "end_time": "2024-07-09T02:57:27.688257Z",
     "start_time": "2024-07-09T02:57:27.665046Z"
    }
   },
   "outputs": [
    {
     "data": {
      "text/html": [
       "<div>\n",
       "<style scoped>\n",
       "    .dataframe tbody tr th:only-of-type {\n",
       "        vertical-align: middle;\n",
       "    }\n",
       "\n",
       "    .dataframe tbody tr th {\n",
       "        vertical-align: top;\n",
       "    }\n",
       "\n",
       "    .dataframe thead th {\n",
       "        text-align: right;\n",
       "    }\n",
       "</style>\n",
       "<table border=\"1\" class=\"dataframe\">\n",
       "  <thead>\n",
       "    <tr style=\"text-align: right;\">\n",
       "      <th></th>\n",
       "      <th>标签</th>\n",
       "      <th>地区</th>\n",
       "      <th>地址</th>\n",
       "      <th>小区</th>\n",
       "      <th>均价</th>\n",
       "      <th>房子类型</th>\n",
       "      <th>开盘时间</th>\n",
       "    </tr>\n",
       "  </thead>\n",
       "  <tbody>\n",
       "    <tr>\n",
       "      <th>0</th>\n",
       "      <td>['车位充足', '低密居所', '置换改善', '养老舒适']</td>\n",
       "      <td>锡山区</td>\n",
       "      <td>无锡市锡山区锡东新城东翔路与新韵北路交会处</td>\n",
       "      <td>美的云璟</td>\n",
       "      <td>23000</td>\n",
       "      <td>毛坯</td>\n",
       "      <td>时间待定</td>\n",
       "    </tr>\n",
       "    <tr>\n",
       "      <th>1</th>\n",
       "      <td>['绿化率高', '人车分流', '国央企', '品牌房企']</td>\n",
       "      <td>惠山区</td>\n",
       "      <td>江苏省无锡市惠山区钱洛路</td>\n",
       "      <td>云上四季</td>\n",
       "      <td>15500</td>\n",
       "      <td>非毛坯</td>\n",
       "      <td>时间待定</td>\n",
       "    </tr>\n",
       "    <tr>\n",
       "      <th>2</th>\n",
       "      <td>['车位充足', '绿化率高', '自持商业', '近地铁']</td>\n",
       "      <td>锡山区</td>\n",
       "      <td>锡山区丹山路145号</td>\n",
       "      <td>海尔产城创翡翠文华</td>\n",
       "      <td>19000</td>\n",
       "      <td>非毛坯</td>\n",
       "      <td>2020-04-30 10:46:58</td>\n",
       "    </tr>\n",
       "    <tr>\n",
       "      <th>3</th>\n",
       "      <td>['大型社区', '品牌房企', '旅游地产', '近地铁']</td>\n",
       "      <td>新吴区</td>\n",
       "      <td>锡山大道与纺城大道交叉口（九里河公园地铁站旁）</td>\n",
       "      <td>上城壹号</td>\n",
       "      <td>18000</td>\n",
       "      <td>非毛坯</td>\n",
       "      <td>2020-10-14 16:21:58</td>\n",
       "    </tr>\n",
       "    <tr>\n",
       "      <th>4</th>\n",
       "      <td>['人车分流', '大型社区', '品牌房企', '贴心物业']</td>\n",
       "      <td>梁溪区</td>\n",
       "      <td>江海西路888号（梁溪区江海西路与会岸路交汇处）</td>\n",
       "      <td>海伦堡·梁溪本源</td>\n",
       "      <td>18000</td>\n",
       "      <td>非毛坯</td>\n",
       "      <td>2019-12-27 09:29:43</td>\n",
       "    </tr>\n",
       "    <tr>\n",
       "      <th>...</th>\n",
       "      <td>...</td>\n",
       "      <td>...</td>\n",
       "      <td>...</td>\n",
       "      <td>...</td>\n",
       "      <td>...</td>\n",
       "      <td>...</td>\n",
       "      <td>...</td>\n",
       "    </tr>\n",
       "    <tr>\n",
       "      <th>150</th>\n",
       "      <td>['优惠楼盘', '车位充足', '低密居所', '国央企']</td>\n",
       "      <td>梁溪区</td>\n",
       "      <td>梁溪区通江大道与锡沪路交汇处</td>\n",
       "      <td>熙悦春秋</td>\n",
       "      <td>27000</td>\n",
       "      <td>非毛坯</td>\n",
       "      <td>时间待定</td>\n",
       "    </tr>\n",
       "    <tr>\n",
       "      <th>151</th>\n",
       "      <td>['车位充足', '人车分流', '国央企', '品牌房企']</td>\n",
       "      <td>梁溪区</td>\n",
       "      <td>全丰路玖礼檀樾</td>\n",
       "      <td>玖礼檀樾</td>\n",
       "      <td>21500</td>\n",
       "      <td>非毛坯</td>\n",
       "      <td>时间待定</td>\n",
       "    </tr>\n",
       "    <tr>\n",
       "      <th>152</th>\n",
       "      <td>['车位充足', '人车分流', '置换改善', '品牌房企']</td>\n",
       "      <td>梁溪区</td>\n",
       "      <td>无锡梁溪区南长运河西路与建运路交叉口东南侧</td>\n",
       "      <td>十里上棠</td>\n",
       "      <td>40000</td>\n",
       "      <td>非毛坯</td>\n",
       "      <td>时间待定</td>\n",
       "    </tr>\n",
       "    <tr>\n",
       "      <th>153</th>\n",
       "      <td>['车位充足', '低密居所', '国央企', '置换改善']</td>\n",
       "      <td>梁溪区</td>\n",
       "      <td>梁溪区南湖大道与芦雅路交叉口西北侧</td>\n",
       "      <td>云上诗悦</td>\n",
       "      <td>26000</td>\n",
       "      <td>非毛坯</td>\n",
       "      <td>时间待定</td>\n",
       "    </tr>\n",
       "    <tr>\n",
       "      <th>155</th>\n",
       "      <td>['优惠楼盘', '车位充足', '人车分流', '置换改善']</td>\n",
       "      <td>滨湖区</td>\n",
       "      <td>刘闾路小田里生活园</td>\n",
       "      <td>小田里生活园</td>\n",
       "      <td>25000</td>\n",
       "      <td>毛坯</td>\n",
       "      <td>时间待定</td>\n",
       "    </tr>\n",
       "  </tbody>\n",
       "</table>\n",
       "<p>134 rows × 7 columns</p>\n",
       "</div>"
      ],
      "text/plain": [
       "                                   标签   地区                        地址  \\\n",
       "0    ['车位充足', '低密居所', '置换改善', '养老舒适']  锡山区     无锡市锡山区锡东新城东翔路与新韵北路交会处   \n",
       "1     ['绿化率高', '人车分流', '国央企', '品牌房企']  惠山区              江苏省无锡市惠山区钱洛路   \n",
       "2     ['车位充足', '绿化率高', '自持商业', '近地铁']  锡山区                锡山区丹山路145号   \n",
       "3     ['大型社区', '品牌房企', '旅游地产', '近地铁']  新吴区   锡山大道与纺城大道交叉口（九里河公园地铁站旁）   \n",
       "4    ['人车分流', '大型社区', '品牌房企', '贴心物业']  梁溪区  江海西路888号（梁溪区江海西路与会岸路交汇处）   \n",
       "..                                ...  ...                       ...   \n",
       "150   ['优惠楼盘', '车位充足', '低密居所', '国央企']  梁溪区            梁溪区通江大道与锡沪路交汇处   \n",
       "151   ['车位充足', '人车分流', '国央企', '品牌房企']  梁溪区                   全丰路玖礼檀樾   \n",
       "152  ['车位充足', '人车分流', '置换改善', '品牌房企']  梁溪区     无锡梁溪区南长运河西路与建运路交叉口东南侧   \n",
       "153   ['车位充足', '低密居所', '国央企', '置换改善']  梁溪区         梁溪区南湖大道与芦雅路交叉口西北侧   \n",
       "155  ['优惠楼盘', '车位充足', '人车分流', '置换改善']  滨湖区                 刘闾路小田里生活园   \n",
       "\n",
       "            小区     均价 房子类型                 开盘时间  \n",
       "0         美的云璟  23000   毛坯                 时间待定  \n",
       "1         云上四季  15500  非毛坯                 时间待定  \n",
       "2    海尔产城创翡翠文华  19000  非毛坯  2020-04-30 10:46:58  \n",
       "3         上城壹号  18000  非毛坯  2020-10-14 16:21:58  \n",
       "4     海伦堡·梁溪本源  18000  非毛坯  2019-12-27 09:29:43  \n",
       "..         ...    ...  ...                  ...  \n",
       "150       熙悦春秋  27000  非毛坯                 时间待定  \n",
       "151       玖礼檀樾  21500  非毛坯                 时间待定  \n",
       "152       十里上棠  40000  非毛坯                 时间待定  \n",
       "153       云上诗悦  26000  非毛坯                 时间待定  \n",
       "155     小田里生活园  25000   毛坯                 时间待定  \n",
       "\n",
       "[134 rows x 7 columns]"
      ]
     },
     "execution_count": 51,
     "metadata": {},
     "output_type": "execute_result"
    }
   ],
   "source": [
    "# 定义一个函数来添加“区”字\n",
    "def add_district_suffix(district):\n",
    "    return district + \"区\"\n",
    "\n",
    "# 使用 apply 方法将函数应用到“地区”列\n",
    "new_houses['地区'] = new_houses['地区'].apply(add_district_suffix)\n",
    "\n",
    "new_houses"
   ]
  },
  {
   "cell_type": "markdown",
   "id": "6a0df592",
   "metadata": {},
   "source": [
    "## 二手房成交数据清洗"
   ]
  },
  {
   "cell_type": "code",
   "execution_count": 74,
   "id": "3d75d39d",
   "metadata": {
    "ExecuteTime": {
     "end_time": "2024-07-09T03:30:10.534800Z",
     "start_time": "2024-07-09T03:30:10.507220Z"
    }
   },
   "outputs": [
    {
     "data": {
      "text/html": [
       "<div>\n",
       "<style scoped>\n",
       "    .dataframe tbody tr th:only-of-type {\n",
       "        vertical-align: middle;\n",
       "    }\n",
       "\n",
       "    .dataframe tbody tr th {\n",
       "        vertical-align: top;\n",
       "    }\n",
       "\n",
       "    .dataframe thead th {\n",
       "        text-align: right;\n",
       "    }\n",
       "</style>\n",
       "<table border=\"1\" class=\"dataframe\">\n",
       "  <thead>\n",
       "    <tr style=\"text-align: right;\">\n",
       "      <th></th>\n",
       "      <th>小区名称</th>\n",
       "      <th>户型</th>\n",
       "      <th>面积（平米）</th>\n",
       "      <th>装修</th>\n",
       "      <th>朝向</th>\n",
       "      <th>出售时间</th>\n",
       "      <th>单价（元/平米）</th>\n",
       "      <th>总价（万）</th>\n",
       "      <th>挂牌价（万）</th>\n",
       "      <th>成交周期（天）</th>\n",
       "    </tr>\n",
       "  </thead>\n",
       "  <tbody>\n",
       "    <tr>\n",
       "      <th>0</th>\n",
       "      <td>锦隆一村</td>\n",
       "      <td>2室1厅</td>\n",
       "      <td>71.45</td>\n",
       "      <td>简装</td>\n",
       "      <td>南</td>\n",
       "      <td>2024.06.21</td>\n",
       "      <td>8425</td>\n",
       "      <td>60.2</td>\n",
       "      <td>66.8</td>\n",
       "      <td>95</td>\n",
       "    </tr>\n",
       "    <tr>\n",
       "      <th>1</th>\n",
       "      <td>惠景家园</td>\n",
       "      <td>2室2厅</td>\n",
       "      <td>75.68</td>\n",
       "      <td>精装</td>\n",
       "      <td>南 北</td>\n",
       "      <td>2024.06.21</td>\n",
       "      <td>11879</td>\n",
       "      <td>89.9</td>\n",
       "      <td>92.0</td>\n",
       "      <td>42</td>\n",
       "    </tr>\n",
       "    <tr>\n",
       "      <th>2</th>\n",
       "      <td>蓝光coco蜜园</td>\n",
       "      <td>3室2厅</td>\n",
       "      <td>76.81</td>\n",
       "      <td>精装</td>\n",
       "      <td>南</td>\n",
       "      <td>2024.06.21</td>\n",
       "      <td>13996</td>\n",
       "      <td>107.5</td>\n",
       "      <td>119.0</td>\n",
       "      <td>122</td>\n",
       "    </tr>\n",
       "    <tr>\n",
       "      <th>3</th>\n",
       "      <td>兴竹家园</td>\n",
       "      <td>2室1厅</td>\n",
       "      <td>73.97</td>\n",
       "      <td>精装</td>\n",
       "      <td>南</td>\n",
       "      <td>2024.06.21</td>\n",
       "      <td>10799</td>\n",
       "      <td>79.9</td>\n",
       "      <td>56.0</td>\n",
       "      <td>44</td>\n",
       "    </tr>\n",
       "    <tr>\n",
       "      <th>4</th>\n",
       "      <td>万业观山泓郡</td>\n",
       "      <td>3室2厅</td>\n",
       "      <td>84.26</td>\n",
       "      <td>精装</td>\n",
       "      <td>南</td>\n",
       "      <td>2024.06.21</td>\n",
       "      <td>14824</td>\n",
       "      <td>124.9</td>\n",
       "      <td>138.0</td>\n",
       "      <td>41</td>\n",
       "    </tr>\n",
       "    <tr>\n",
       "      <th>...</th>\n",
       "      <td>...</td>\n",
       "      <td>...</td>\n",
       "      <td>...</td>\n",
       "      <td>...</td>\n",
       "      <td>...</td>\n",
       "      <td>...</td>\n",
       "      <td>...</td>\n",
       "      <td>...</td>\n",
       "      <td>...</td>\n",
       "      <td>...</td>\n",
       "    </tr>\n",
       "    <tr>\n",
       "      <th>2995</th>\n",
       "      <td>俊发SOHO俊园</td>\n",
       "      <td>2室1厅</td>\n",
       "      <td>40.59</td>\n",
       "      <td>毛坯</td>\n",
       "      <td>南</td>\n",
       "      <td>2024.03.23</td>\n",
       "      <td>9338</td>\n",
       "      <td>37.9</td>\n",
       "      <td>41.0</td>\n",
       "      <td>18</td>\n",
       "    </tr>\n",
       "    <tr>\n",
       "      <th>2996</th>\n",
       "      <td>新洲人家</td>\n",
       "      <td>3室2厅</td>\n",
       "      <td>134.07</td>\n",
       "      <td>精装</td>\n",
       "      <td>南</td>\n",
       "      <td>2024.03.23</td>\n",
       "      <td>8041</td>\n",
       "      <td>107.8</td>\n",
       "      <td>113.0</td>\n",
       "      <td>18</td>\n",
       "    </tr>\n",
       "    <tr>\n",
       "      <th>2997</th>\n",
       "      <td>芦庄五区</td>\n",
       "      <td>2室1厅</td>\n",
       "      <td>65.10</td>\n",
       "      <td>精装</td>\n",
       "      <td>南</td>\n",
       "      <td>2024.03.23</td>\n",
       "      <td>11521</td>\n",
       "      <td>75.0</td>\n",
       "      <td>79.0</td>\n",
       "      <td>363</td>\n",
       "    </tr>\n",
       "    <tr>\n",
       "      <th>2998</th>\n",
       "      <td>华夏世纪锦园北区</td>\n",
       "      <td>3室2厅</td>\n",
       "      <td>101.00</td>\n",
       "      <td>精装</td>\n",
       "      <td>南</td>\n",
       "      <td>2024.03.23</td>\n",
       "      <td>11486</td>\n",
       "      <td>116.0</td>\n",
       "      <td>121.0</td>\n",
       "      <td>170</td>\n",
       "    </tr>\n",
       "    <tr>\n",
       "      <th>2999</th>\n",
       "      <td>东太华苑</td>\n",
       "      <td>3室1厅</td>\n",
       "      <td>119.76</td>\n",
       "      <td>精装</td>\n",
       "      <td>南</td>\n",
       "      <td>2024.03.23</td>\n",
       "      <td>11941</td>\n",
       "      <td>143.0</td>\n",
       "      <td>150.0</td>\n",
       "      <td>163</td>\n",
       "    </tr>\n",
       "  </tbody>\n",
       "</table>\n",
       "<p>3000 rows × 10 columns</p>\n",
       "</div>"
      ],
      "text/plain": [
       "          小区名称    户型  面积（平米）  装修   朝向        出售时间  单价（元/平米）  总价（万）  挂牌价（万）  \\\n",
       "0         锦隆一村  2室1厅   71.45  简装    南  2024.06.21      8425   60.2    66.8   \n",
       "1         惠景家园  2室2厅   75.68  精装  南 北  2024.06.21     11879   89.9    92.0   \n",
       "2     蓝光coco蜜园  3室2厅   76.81  精装    南  2024.06.21     13996  107.5   119.0   \n",
       "3         兴竹家园  2室1厅   73.97  精装    南  2024.06.21     10799   79.9    56.0   \n",
       "4       万业观山泓郡  3室2厅   84.26  精装    南  2024.06.21     14824  124.9   138.0   \n",
       "...        ...   ...     ...  ..  ...         ...       ...    ...     ...   \n",
       "2995  俊发SOHO俊园  2室1厅   40.59  毛坯    南  2024.03.23      9338   37.9    41.0   \n",
       "2996      新洲人家  3室2厅  134.07  精装    南  2024.03.23      8041  107.8   113.0   \n",
       "2997      芦庄五区  2室1厅   65.10  精装    南  2024.03.23     11521   75.0    79.0   \n",
       "2998  华夏世纪锦园北区  3室2厅  101.00  精装    南  2024.03.23     11486  116.0   121.0   \n",
       "2999      东太华苑  3室1厅  119.76  精装    南  2024.03.23     11941  143.0   150.0   \n",
       "\n",
       "      成交周期（天）  \n",
       "0          95  \n",
       "1          42  \n",
       "2         122  \n",
       "3          44  \n",
       "4          41  \n",
       "...       ...  \n",
       "2995       18  \n",
       "2996       18  \n",
       "2997      363  \n",
       "2998      170  \n",
       "2999      163  \n",
       "\n",
       "[3000 rows x 10 columns]"
      ]
     },
     "execution_count": 74,
     "metadata": {},
     "output_type": "execute_result"
    }
   ],
   "source": [
    "transaction_records"
   ]
  },
  {
   "cell_type": "code",
   "execution_count": 75,
   "id": "e17c9f5c",
   "metadata": {
    "ExecuteTime": {
     "end_time": "2024-07-09T03:30:15.142187Z",
     "start_time": "2024-07-09T03:30:15.131007Z"
    }
   },
   "outputs": [],
   "source": [
    "# 去除重复值\n",
    "transaction_records.drop_duplicates(inplace=True)"
   ]
  },
  {
   "cell_type": "code",
   "execution_count": 76,
   "id": "b9b375e6",
   "metadata": {
    "ExecuteTime": {
     "end_time": "2024-07-09T03:30:19.870070Z",
     "start_time": "2024-07-09T03:30:19.859368Z"
    }
   },
   "outputs": [
    {
     "data": {
      "text/plain": [
       "小区名称        0\n",
       "户型          0\n",
       "面积（平米）      0\n",
       "装修          0\n",
       "朝向          0\n",
       "出售时间        0\n",
       "单价（元/平米）    0\n",
       "总价（万）       0\n",
       "挂牌价（万）      0\n",
       "成交周期（天）     0\n",
       "dtype: int64"
      ]
     },
     "execution_count": 76,
     "metadata": {},
     "output_type": "execute_result"
    }
   ],
   "source": [
    "# 检查缺失值\n",
    "miss_translation_data = transaction_records.isnull().sum()\n",
    "miss_translation_data"
   ]
  },
  {
   "cell_type": "code",
   "execution_count": 77,
   "id": "2fc8eec6",
   "metadata": {
    "ExecuteTime": {
     "end_time": "2024-07-09T03:30:25.049017Z",
     "start_time": "2024-07-09T03:30:25.033792Z"
    }
   },
   "outputs": [
    {
     "name": "stdout",
     "output_type": "stream",
     "text": [
      "<class 'pandas.core.frame.DataFrame'>\n",
      "RangeIndex: 3000 entries, 0 to 2999\n",
      "Data columns (total 10 columns):\n",
      " #   Column    Non-Null Count  Dtype  \n",
      "---  ------    --------------  -----  \n",
      " 0   小区名称      3000 non-null   object \n",
      " 1   户型        3000 non-null   object \n",
      " 2   面积（平米）    3000 non-null   float64\n",
      " 3   装修        3000 non-null   object \n",
      " 4   朝向        3000 non-null   object \n",
      " 5   出售时间      3000 non-null   object \n",
      " 6   单价（元/平米）  3000 non-null   int64  \n",
      " 7   总价（万）     3000 non-null   float64\n",
      " 8   挂牌价（万）    3000 non-null   float64\n",
      " 9   成交周期（天）   3000 non-null   int64  \n",
      "dtypes: float64(3), int64(2), object(5)\n",
      "memory usage: 234.5+ KB\n"
     ]
    }
   ],
   "source": [
    "# 检查数据类型\n",
    "transaction_records.info()"
   ]
  },
  {
   "cell_type": "markdown",
   "id": "0b59a8d9",
   "metadata": {},
   "source": [
    "# 市场分析"
   ]
  },
  {
   "cell_type": "markdown",
   "id": "51a44eaa",
   "metadata": {},
   "source": [
    "## 新房和二手房市场对比"
   ]
  },
  {
   "cell_type": "code",
   "execution_count": 16,
   "id": "d22e42eb",
   "metadata": {
    "ExecuteTime": {
     "end_time": "2024-07-10T05:51:48.414896Z",
     "start_time": "2024-07-10T05:51:48.067752Z"
    }
   },
   "outputs": [
    {
     "data": {
      "text/html": [
       "<div>\n",
       "<style scoped>\n",
       "    .dataframe tbody tr th:only-of-type {\n",
       "        vertical-align: middle;\n",
       "    }\n",
       "\n",
       "    .dataframe tbody tr th {\n",
       "        vertical-align: top;\n",
       "    }\n",
       "\n",
       "    .dataframe thead th {\n",
       "        text-align: right;\n",
       "    }\n",
       "</style>\n",
       "<table border=\"1\" class=\"dataframe\">\n",
       "  <thead>\n",
       "    <tr style=\"text-align: right;\">\n",
       "      <th></th>\n",
       "      <th>标题</th>\n",
       "      <th>小区名称</th>\n",
       "      <th>楼层</th>\n",
       "      <th>地区</th>\n",
       "      <th>户型</th>\n",
       "      <th>面积</th>\n",
       "      <th>装修</th>\n",
       "      <th>朝向</th>\n",
       "      <th>类型</th>\n",
       "      <th>房价</th>\n",
       "      <th>总价</th>\n",
       "    </tr>\n",
       "  </thead>\n",
       "  <tbody>\n",
       "    <tr>\n",
       "      <th>0</th>\n",
       "      <td>广益博苑二期婚装2房 急售价格可谈看房随时有钥匙</td>\n",
       "      <td>广益博苑一期、二期</td>\n",
       "      <td>高楼层(共33层)</td>\n",
       "      <td>梁溪区</td>\n",
       "      <td>2室1厅</td>\n",
       "      <td>59.24</td>\n",
       "      <td>精装</td>\n",
       "      <td>南</td>\n",
       "      <td>板塔结合</td>\n",
       "      <td>10973.0</td>\n",
       "      <td>65.0</td>\n",
       "    </tr>\n",
       "    <tr>\n",
       "      <th>1</th>\n",
       "      <td>我的天！首付12万入住城市CBD主核区！只卖给懂的人！</td>\n",
       "      <td>广南里</td>\n",
       "      <td>中楼层(共7层)</td>\n",
       "      <td>新吴区</td>\n",
       "      <td>2室1厅</td>\n",
       "      <td>69.71</td>\n",
       "      <td>精装</td>\n",
       "      <td>南</td>\n",
       "      <td>板楼</td>\n",
       "      <td>10759.0</td>\n",
       "      <td>75.0</td>\n",
       "    </tr>\n",
       "    <tr>\n",
       "      <th>2</th>\n",
       "      <td>地铁口 商品房 三楼！业主置换 着急卖！三房户型</td>\n",
       "      <td>太湖花园一期</td>\n",
       "      <td>中楼层(共6层)</td>\n",
       "      <td>新吴区</td>\n",
       "      <td>2室2厅</td>\n",
       "      <td>90.57</td>\n",
       "      <td>精装</td>\n",
       "      <td>南</td>\n",
       "      <td>板楼</td>\n",
       "      <td>10821.0</td>\n",
       "      <td>98.0</td>\n",
       "    </tr>\n",
       "    <tr>\n",
       "      <th>3</th>\n",
       "      <td>江大南 绿地天空树 精装修带地暖，D铁口</td>\n",
       "      <td>绿地天空树</td>\n",
       "      <td>中楼层(共33层)</td>\n",
       "      <td>滨湖区</td>\n",
       "      <td>3室2厅</td>\n",
       "      <td>107.71</td>\n",
       "      <td>精装</td>\n",
       "      <td>南</td>\n",
       "      <td>板楼</td>\n",
       "      <td>17176.0</td>\n",
       "      <td>185.0</td>\n",
       "    </tr>\n",
       "    <tr>\n",
       "      <th>4</th>\n",
       "      <td>全明四房 视野开阔 双阳台 中间楼层</td>\n",
       "      <td>玉兰花园西三区</td>\n",
       "      <td>中楼层(共17层)</td>\n",
       "      <td>滨湖区</td>\n",
       "      <td>4室2厅</td>\n",
       "      <td>152.89</td>\n",
       "      <td>精装</td>\n",
       "      <td>南北</td>\n",
       "      <td>板楼</td>\n",
       "      <td>31396.0</td>\n",
       "      <td>480.0</td>\n",
       "    </tr>\n",
       "    <tr>\n",
       "      <th>...</th>\n",
       "      <td>...</td>\n",
       "      <td>...</td>\n",
       "      <td>...</td>\n",
       "      <td>...</td>\n",
       "      <td>...</td>\n",
       "      <td>...</td>\n",
       "      <td>...</td>\n",
       "      <td>...</td>\n",
       "      <td>...</td>\n",
       "      <td>...</td>\n",
       "      <td>...</td>\n",
       "    </tr>\n",
       "    <tr>\n",
       "      <th>2965</th>\n",
       "      <td>新安花苑三房，简装，满五唯一，包土出</td>\n",
       "      <td>新安花苑三区</td>\n",
       "      <td>低楼层(共6层)</td>\n",
       "      <td>新吴区</td>\n",
       "      <td>3室1厅</td>\n",
       "      <td>91.88</td>\n",
       "      <td>简装</td>\n",
       "      <td>南</td>\n",
       "      <td>板塔结合</td>\n",
       "      <td>11428.0</td>\n",
       "      <td>105.0</td>\n",
       "    </tr>\n",
       "    <tr>\n",
       "      <th>2966</th>\n",
       "      <td>自住精装修三房视野好房东诚心出售</td>\n",
       "      <td>融创栖溪里</td>\n",
       "      <td>低楼层(共45层)</td>\n",
       "      <td>滨湖区</td>\n",
       "      <td>3室2厅</td>\n",
       "      <td>118.28</td>\n",
       "      <td>精装</td>\n",
       "      <td>南</td>\n",
       "      <td>板楼</td>\n",
       "      <td>17755.0</td>\n",
       "      <td>210.0</td>\n",
       "    </tr>\n",
       "    <tr>\n",
       "      <th>2967</th>\n",
       "      <td>朗诗 未来感设计 现新房 户型好 环境优美</td>\n",
       "      <td>朗诗未来街区</td>\n",
       "      <td>中楼层(共34层)</td>\n",
       "      <td>江阴市</td>\n",
       "      <td>3室2厅</td>\n",
       "      <td>113.84</td>\n",
       "      <td>毛坯</td>\n",
       "      <td>南</td>\n",
       "      <td>塔楼</td>\n",
       "      <td>7467.0</td>\n",
       "      <td>85.0</td>\n",
       "    </tr>\n",
       "    <tr>\n",
       "      <th>2968</th>\n",
       "      <td>黄泥头好房出售，诚心卖户型方正采光好，精装</td>\n",
       "      <td>黄泥头佳苑</td>\n",
       "      <td>中楼层(共36层)</td>\n",
       "      <td>梁溪区</td>\n",
       "      <td>2室1厅</td>\n",
       "      <td>84.00</td>\n",
       "      <td>精装</td>\n",
       "      <td>南</td>\n",
       "      <td>板楼</td>\n",
       "      <td>10953.0</td>\n",
       "      <td>92.0</td>\n",
       "    </tr>\n",
       "    <tr>\n",
       "      <th>2969</th>\n",
       "      <td>金科集美，房东急售，四房采光无遮挡</td>\n",
       "      <td>金科集美壹品</td>\n",
       "      <td>中楼层(共17层)</td>\n",
       "      <td>惠山区</td>\n",
       "      <td>3室2厅</td>\n",
       "      <td>129.26</td>\n",
       "      <td>精装</td>\n",
       "      <td>南</td>\n",
       "      <td>板楼</td>\n",
       "      <td>17794.0</td>\n",
       "      <td>230.0</td>\n",
       "    </tr>\n",
       "  </tbody>\n",
       "</table>\n",
       "<p>2305 rows × 11 columns</p>\n",
       "</div>"
      ],
      "text/plain": [
       "                               标题        小区名称         楼层   地区    户型      面积  \\\n",
       "0        广益博苑二期婚装2房 急售价格可谈看房随时有钥匙  广益博苑一期、二期   高楼层(共33层)  梁溪区  2室1厅   59.24   \n",
       "1     我的天！首付12万入住城市CBD主核区！只卖给懂的人！        广南里    中楼层(共7层)  新吴区  2室1厅   69.71   \n",
       "2        地铁口 商品房 三楼！业主置换 着急卖！三房户型     太湖花园一期    中楼层(共6层)  新吴区  2室2厅   90.57   \n",
       "3            江大南 绿地天空树 精装修带地暖，D铁口      绿地天空树   中楼层(共33层)  滨湖区  3室2厅  107.71   \n",
       "4              全明四房 视野开阔 双阳台 中间楼层    玉兰花园西三区   中楼层(共17层)  滨湖区  4室2厅  152.89   \n",
       "...                           ...         ...        ...  ...   ...     ...   \n",
       "2965           新安花苑三房，简装，满五唯一，包土出     新安花苑三区    低楼层(共6层)  新吴区  3室1厅   91.88   \n",
       "2966             自住精装修三房视野好房东诚心出售      融创栖溪里   低楼层(共45层)  滨湖区  3室2厅  118.28   \n",
       "2967        朗诗 未来感设计 现新房 户型好 环境优美     朗诗未来街区   中楼层(共34层)  江阴市  3室2厅  113.84   \n",
       "2968        黄泥头好房出售，诚心卖户型方正采光好，精装      黄泥头佳苑   中楼层(共36层)  梁溪区  2室1厅   84.00   \n",
       "2969            金科集美，房东急售，四房采光无遮挡     金科集美壹品   中楼层(共17层)  惠山区  3室2厅  129.26   \n",
       "\n",
       "      装修  朝向    类型       房价     总价  \n",
       "0     精装   南  板塔结合  10973.0   65.0  \n",
       "1     精装   南    板楼  10759.0   75.0  \n",
       "2     精装   南    板楼  10821.0   98.0  \n",
       "3     精装   南    板楼  17176.0  185.0  \n",
       "4     精装  南北    板楼  31396.0  480.0  \n",
       "...   ..  ..   ...      ...    ...  \n",
       "2965  简装   南  板塔结合  11428.0  105.0  \n",
       "2966  精装   南    板楼  17755.0  210.0  \n",
       "2967  毛坯   南    塔楼   7467.0   85.0  \n",
       "2968  精装   南    板楼  10953.0   92.0  \n",
       "2969  精装   南    板楼  17794.0  230.0  \n",
       "\n",
       "[2305 rows x 11 columns]"
      ]
     },
     "execution_count": 16,
     "metadata": {},
     "output_type": "execute_result"
    }
   ],
   "source": [
    "# 将二手房地区改为行政区\n",
    "# 创建一个字典，将地区名称映射到行政区\n",
    "district_mapping = {\n",
    "    '广益': '梁溪区',\n",
    "    '江溪': '新吴区',\n",
    "    '融创文化旅游城': '滨湖区',\n",
    "    '海岸城/市民中心': '滨湖区',\n",
    "    '长广溪/大学城': '滨湖区',\n",
    "    '海岸城/市民中心': '滨湖区',\n",
    "    '河埒口': '滨湖区',\n",
    "    '华庄': '滨湖区',\n",
    "    '胡埭': '滨湖区',\n",
    "    '蠡湖新城': '滨湖区',\n",
    "    '马山梅园': '滨湖区',\n",
    "    '南泉': '滨湖区',\n",
    "    '融创文化旅游城': '滨湖区',\n",
    "    '荣巷': '滨湖区',\n",
    "    '太湖山水城': '滨湖区',\n",
    "    '新体育中心': '滨湖区',\n",
    "    '坊前': '滨湖区',\n",
    "    '塘铁桥': '滨湖区',\n",
    "    '万象城/东绛': '滨湖区',\n",
    "    '湖滨商业街': '滨湖区',\n",
    "    '中桥': '滨湖区',\n",
    "    '梅园': '滨湖区',\n",
    "    '北大街': '梁溪区',\n",
    "    '广瑞/广丰': '梁溪区',\n",
    "    '广益': '梁溪区',\n",
    "    '黄巷': '梁溪区',\n",
    "    '刘潭': '梁溪区',\n",
    "    '民丰/庄前': '梁溪区',\n",
    "    '清名桥': '梁溪区',\n",
    "    '三阳广场': '梁溪区',\n",
    "    '山北': '梁溪区',\n",
    "    '五爱广场': '梁溪区',\n",
    "    '迎龙桥': '梁溪区',\n",
    "    '扬名': '梁溪区',\n",
    "    '上马墩': '梁溪区',\n",
    "    '塘南': '梁溪区',\n",
    "    '鸿山': '新吴区',\n",
    "    '江溪': '新吴区',\n",
    "    '梅村': '新吴区',\n",
    "    '生态园': '新吴区',\n",
    "    '高新区': '新吴区',\n",
    "    '硕放': '新吴区',\n",
    "    '旺庄': '新吴区',\n",
    "    '新安': '新吴区',\n",
    "    '洛社': '惠山区',\n",
    "    '前洲': '惠山区',\n",
    "    '石塘湾': '惠山区',\n",
    "    '西漳': '惠山区',\n",
    "    '阳山': '惠山区',\n",
    "    '堰桥': '惠山区',\n",
    "    '玉祁': '惠山区',\n",
    "    '钱桥': '惠山区',\n",
    "    '安镇': '锡山区',\n",
    "    '东北塘': '锡山区',\n",
    "    '东港': '锡山区',\n",
    "    '鹅湖': '锡山区',\n",
    "    '锡北': '锡山区',\n",
    "    '羊尖': '锡山区',\n",
    "    '东亭': '锡山区',\n",
    "    '澄江街道': '江阴市',\n",
    "    '云亭街道': '江阴市',\n",
    "    '徐霞客镇':'江阴市',\n",
    "    '临港经济开发区':'江阴市'\n",
    "}\n",
    "\n",
    "# 使用循环遍历数据框并更新 '地区' 列\n",
    "for index, row in second_hand_houses.iterrows():\n",
    "    if row['地区'] in district_mapping:\n",
    "        second_hand_houses.at[index, '地区'] = district_mapping[row['地区']]\n",
    "\n",
    "# 显示更新后的数据\n",
    "second_hand_houses"
   ]
  },
  {
   "cell_type": "code",
   "execution_count": 17,
   "id": "53f11d96",
   "metadata": {
    "ExecuteTime": {
     "end_time": "2024-07-10T05:51:48.440772Z",
     "start_time": "2024-07-10T05:51:48.418569Z"
    }
   },
   "outputs": [
    {
     "name": "stdout",
     "output_type": "stream",
     "text": [
      "不同地区的平均房价：\n",
      " 地区\n",
      "滨湖区    18177.599711\n",
      "梁溪区    15405.037549\n",
      "锡山区    14069.358289\n",
      "新吴区    13659.873171\n",
      "惠山区    13101.018939\n",
      "江阴市    10753.016949\n",
      "Name: 房价, dtype: float64\n",
      "不同地区的平均房价：\n",
      " 地区\n",
      "滨湖     28428.571429\n",
      "梁溪     27909.090909\n",
      "新吴     20656.250000\n",
      "锡山     20635.714286\n",
      "宜兴市    20250.000000\n",
      "惠山     19005.000000\n",
      "江阴市    14542.307692\n",
      "Name: 均价, dtype: float64\n"
     ]
    }
   ],
   "source": [
    "# 不同地区房价分析\n",
    "region_price_analysis = second_hand_houses.groupby('地区')['房价'].mean().sort_values(ascending=False)\n",
    "print(\"不同地区的平均房价：\\n\", region_price_analysis)\n",
    "\n",
    "# 不同地区房价分析\n",
    "region_price_analysis = new_houses.groupby('地区')['均价'].mean().sort_values(ascending=False)\n",
    "print(\"不同地区的平均房价：\\n\", region_price_analysis)"
   ]
  },
  {
   "cell_type": "code",
   "execution_count": 18,
   "id": "4aeb4a2a",
   "metadata": {
    "ExecuteTime": {
     "end_time": "2024-07-10T05:51:53.426338Z",
     "start_time": "2024-07-10T05:51:52.701654Z"
    }
   },
   "outputs": [
    {
     "data": {
      "image/png": "[encoded data removed]",
      "text/plain": [
       "<Figure size 1440x576 with 2 Axes>"
      ]
     },
     "metadata": {
      "needs_background": "light"
     },
     "output_type": "display_data"
    }
   ],
   "source": [
    "# 计算新房和二手房的区域均价\n",
    "new_houses_avg_price = new_houses.groupby('地区')['均价'].mean()\n",
    "second_hand_houses_avg_price = second_hand_houses.groupby('地区')['房价'].mean()\n",
    "\n",
    "# 可视化\n",
    "plt.figure(figsize=(20, 8))\n",
    "\n",
    "plt.subplot(1, 2, 1)\n",
    "new_houses_avg_price.plot(kind='bar', title='新房区域均价')\n",
    "for i, v in enumerate(new_houses_avg_price):\n",
    "    plt.text(i, v + 3, str(v), ha='center', va='bottom', fontsize=9)\n",
    "\n",
    "plt.subplot(1, 2, 2)\n",
    "second_hand_houses_avg_price.plot(kind='bar', title='二手房区域均价')\n",
    "for i, v in enumerate(second_hand_houses_avg_price):\n",
    "    plt.text(i, v + 3, str(v), ha='center', va='bottom', fontsize=9)\n",
    "\n",
    "plt.show()"
   ]
  },
  {
   "cell_type": "markdown",
   "id": "354c07a4",
   "metadata": {},
   "source": []
  },
  {
   "cell_type": "markdown",
   "id": "369d92ca",
   "metadata": {},
   "source": [
    "### 数据表\n",
    "\n",
    "| 地区     | 二手房平均房价 (元/平方米) | 新房平均房价 (元/平方米) | 差异 (元/平方米) | 差异百分比 (%) |\n",
    "|----------|----------------------------|--------------------------|------------------|----------------|\n",
    "| 滨湖区   | 18177.60                   | 28210.53                 | 10032.93         | 55.18%         |\n",
    "| 梁溪区   | 15405.04                   | 27190.48                 | 11785.44         | 76.51%         |\n",
    "| 锡山区   | 14069.36                   | 19965.79                 | 5896.43          | 41.91%         |\n",
    "| 新吴区   | 13659.87                   | 19230.77                 | 5570.90          | 40.77%         |\n",
    "| 惠山区   | 13101.02                   | 18711.76                 | 5610.74          | 42.82%         |\n",
    "| 江阴市   | 10753.02                   | 14295.83                 | 3542.81          | 32.94%         |\n",
    "| 宜兴市 | -                          | 20250.00                 | -                | -              |\n",
    "\n",
    "### 总结\n",
    "\n",
    "- **总体趋势**：所有地区的新房价格均高于二手房价格，差异从3542.81元到11785.44元不等。\n",
    "- **差异最大**：梁溪区，新房价格比二手房高出约11785.44元，差异百分比为76.51%。\n",
    "- **差异最小**：江阴市，新房价格比二手房高出约3542.81元，差异百分比为32.94%。\n",
    "- **价格较高的区域**：滨湖区和梁溪区的新房和二手房价格都明显高于其他地区。\n",
    "- **价格较低的区域**：江阴市的二手房和新房价格相对较低，且差异较小。\n"
   ]
  },
  {
   "cell_type": "markdown",
   "id": "88748f07",
   "metadata": {},
   "source": [
    "## 房源选择"
   ]
  },
  {
   "cell_type": "code",
   "execution_count": 82,
   "id": "e79e09ca",
   "metadata": {
    "ExecuteTime": {
     "end_time": "2024-07-09T03:35:04.915230Z",
     "start_time": "2024-07-09T03:35:04.427854Z"
    }
   },
   "outputs": [
    {
     "name": "stdout",
     "output_type": "stream",
     "text": [
      "户型均价数据：\n",
      "户型\n",
      "4室2厅    18182.673077\n",
      "5室3厅    17250.333333\n",
      "5室2厅    16991.411765\n",
      "3室1厅    16225.233333\n",
      "3室2厅    16144.698305\n",
      "1室0厅    15692.000000\n",
      "4室3厅    14544.000000\n",
      "4室1厅    14472.619048\n",
      "2室2厅    14442.943601\n",
      "2室1厅    13803.294118\n",
      "3室3厅    13638.000000\n",
      "1室1厅    13510.005780\n",
      "1室2厅    12698.500000\n",
      "6室2厅    10071.000000\n",
      "7室2厅     8458.000000\n",
      "Name: 房价, dtype: float64\n",
      "装修均价数据：\n",
      "装修\n",
      "精装    15961.803560\n",
      "毛坯    14810.494048\n",
      "其他    14398.062500\n",
      "简装    13552.022936\n",
      "Name: 房价, dtype: float64\n"
     ]
    },
    {
     "data": {
      "image/png": "[encoded data removed]",
      "text/plain": [
       "<Figure size 1440x576 with 1 Axes>"
      ]
     },
     "metadata": {
      "needs_background": "light"
     },
     "output_type": "display_data"
    },
    {
     "data": {
      "image/png": "[encoded data removed]",
      "text/plain": [
       "<Figure size 1440x576 with 1 Axes>"
      ]
     },
     "metadata": {
      "needs_background": "light"
     },
     "output_type": "display_data"
    }
   ],
   "source": [
    "# 计算户型的均价\n",
    "house_type_price = second_hand_houses.groupby('户型')['房价'].mean().sort_values(ascending=False)\n",
    "print(\"户型均价数据：\")\n",
    "print(house_type_price)\n",
    "\n",
    "# 计算装修的均价\n",
    "decoration_price = second_hand_houses.groupby('装修')['房价'].mean().sort_values(ascending=False)\n",
    "print(\"装修均价数据：\")\n",
    "print(decoration_price)\n",
    "\n",
    "# 户型对房价的影响\n",
    "plt.figure(figsize=(20, 8))\n",
    "house_type_price = second_hand_houses.groupby('户型')['房价'].mean().sort_values(ascending=False)\n",
    "house_type_price.plot(kind='bar', title='户型对房价的影响')\n",
    "plt.show()\n",
    "\n",
    "# 装修对房价的影响\n",
    "plt.figure(figsize=(20, 8))\n",
    "decoration_price = second_hand_houses.groupby('装修')['房价'].mean().sort_values(ascending=False)\n",
    "decoration_price.plot(kind='bar', title='装修对房价的影响')\n",
    "plt.show()\n"
   ]
  },
  {
   "cell_type": "markdown",
   "id": "9c24cc3d",
   "metadata": {
    "ExecuteTime": {
     "end_time": "2024-07-09T03:20:02.498652Z",
     "start_time": "2024-07-09T03:20:02.014110Z"
    }
   },
   "source": [
    "### 户型对房价的影响分析\n",
    "\n",
    "1. **高价位户型**：最高均价的户型是“4室2厅”，其次是“5室3厅”和“5室2厅”。这表明更大的户型（更多的卧室和客厅）通常有更高的均价，这可能与它们的空间更大、适合大家庭居住或有更好的居住功能性有关。\n",
    "\n",
    "2. **中等价位户型**：中等价位的户型包括“3室1厅”和“3室2厅”，这些户型是市场上常见的家庭型户型，适合中等家庭，价格相对适中。\n",
    "\n",
    "3. **低价位户型**：最低均价的户型是“7室2厅”，其次是“6室2厅”，这可能表明市场对这种大户型的需求较少，或者这些数据中的样本位于价格较低的地区。\n",
    "\n",
    "4. **小户型**：“1室0厅”和“1室1厅”这类小户型的均价也相对较高，可能因为它们在市中心或高价地区的小型公寓中较为常见，适合单身或小家庭居住。\n",
    "\n",
    "### 装修对房价的影响分析\n",
    "\n",
    "1. **高价位装修**：“精装”修饰的房产有最高的均价，这可能是因为精装修房屋无需额外装修，即可入住，适合买家寻求即买即住的便利。\n",
    "\n",
    "2. **次高价位装修**：“毛坯”房屋的均价位居次席，这可能与买家对于自定义装修的偏好有关。毛坯房允许买家根据自己的喜好来装修房屋，这可能会吸引一部分买家，尽管它们需要额外的装修成本。\n",
    "\n",
    "3. **其他装修状态**：“其他”可能指的是部分装修或者装修程度不明确的房屋，其均价略低于毛坯。\n",
    "\n",
    "4. **低价位装修**：“简装”房屋的均价最低，这可能表明简装房屋的装修质量较低，或者买家可能需要进行进一步的装修投入。\n",
    "\n",
    "### 综合分析\n",
    "\n",
    "从数据中可以看出，房屋的户型和装修状态对房价有明显的影响。较大的户型和精装修状态的房屋通常有更高的均价，而较小或特别大的户型（如“7室2厅”和“6室2厅”）以及简装修的房屋则有更低的均价。"
   ]
  },
  {
   "cell_type": "markdown",
   "id": "9c0536fd",
   "metadata": {},
   "source": [
    "## 二手房定价策略"
   ]
  },
  {
   "cell_type": "code",
   "execution_count": 91,
   "id": "b2e09e08",
   "metadata": {
    "ExecuteTime": {
     "end_time": "2024-07-09T05:50:35.240801Z",
     "start_time": "2024-07-09T05:50:35.228836Z"
    }
   },
   "outputs": [
    {
     "name": "stdout",
     "output_type": "stream",
     "text": [
      "平均溢价率最高的小区：\n",
      "小区名称\n",
      "周新苑四期     0.388889\n",
      "仙河苑二期     0.350000\n",
      "新安花苑二区    0.327273\n",
      "丰裕园二期     0.280488\n",
      "蓉阳苑       0.267442\n",
      "Name: 溢价率, dtype: float64\n"
     ]
    }
   ],
   "source": [
    "# 计算平均溢价率\n",
    "transaction_records['溢价率'] = (transaction_records['总价（万）'] - transaction_records['挂牌价（万）']) / transaction_records['挂牌价（万）']\n",
    "avg_premium = transaction_records.groupby('小区名称')['溢价率'].mean().sort_values(ascending=False)\n",
    "\n",
    "print(\"平均溢价率最高的小区：\")\n",
    "print(avg_premium.head())"
   ]
  },
  {
   "cell_type": "code",
   "execution_count": 108,
   "id": "74ae113e",
   "metadata": {
    "ExecuteTime": {
     "end_time": "2024-07-09T06:25:01.494822Z",
     "start_time": "2024-07-09T06:25:01.157280Z"
    }
   },
   "outputs": [
    {
     "data": {
      "image/png": "[encoded data removed]",
      "text/plain": [
       "<Figure size 1440x576 with 1 Axes>"
      ]
     },
     "metadata": {
      "needs_background": "light"
     },
     "output_type": "display_data"
    },
    {
     "name": "stdout",
     "output_type": "stream",
     "text": [
      "溢价率平均值: -0.07\n",
      "成交周期平均值: 224.49 天\n"
     ]
    }
   ],
   "source": [
    "correlation = transaction_records['溢价率'].corr(transaction_records['成交周期（天）'])\n",
    "\n",
    "# 创建图表\n",
    "plt.figure(figsize=(20, 8))\n",
    "\n",
    "# 绘制散点图\n",
    "plt.scatter(transaction_records['溢价率'], transaction_records['成交周期（天）'], alpha=0.5)\n",
    "\n",
    "# 设置标签和标题\n",
    "plt.xlabel('溢价率')\n",
    "plt.ylabel('成交周期（天）')\n",
    "plt.title('溢价率 vs 成交周期')\n",
    "\n",
    "# 添加网格线\n",
    "plt.grid(True, linestyle='--', alpha=0.7)\n",
    "\n",
    "# 添加相关系数信息\n",
    "plt.text(0.05, 0.95, f'相关系数: {correlation:.2f}', \n",
    "         transform=plt.gca().transAxes, verticalalignment='top', \n",
    "         bbox=dict(boxstyle='round', facecolor='white', alpha=0.8))\n",
    "\n",
    "# 支持负号显示\n",
    "plt.rcParams['axes.unicode_minus'] = False\n",
    "\n",
    "# 显示图表\n",
    "plt.tight_layout()\n",
    "plt.show()\n",
    "\n",
    "# 打印一些基本统计信息\n",
    "print(f\"溢价率平均值: {transaction_records['溢价率'].mean():.2f}\")\n",
    "print(f\"成交周期平均值: {transaction_records['成交周期（天）'].mean():.2f} 天\")"
   ]
  },
  {
   "cell_type": "code",
   "execution_count": 106,
   "id": "0d7580e9",
   "metadata": {
    "ExecuteTime": {
     "end_time": "2024-07-09T06:12:05.946990Z",
     "start_time": "2024-07-09T06:12:04.285478Z"
    }
   },
   "outputs": [
    {
     "name": "stdout",
     "output_type": "stream",
     "text": [
      "各小区的最佳定价区间：\n",
      "           最佳定价下限   最佳定价上限   平均成交价      平均成交周期\n",
      "小区名称                                          \n",
      "ΜΟΜΛ春风湖上  371.000  371.000  371.00    2.000000\n",
      "一品城       850.000  850.000  850.00  169.000000\n",
      "一方城        86.000   86.000   86.00  350.000000\n",
      "万业观山泓郡    127.225  151.425  159.30  281.250000\n",
      "万商美寓       26.000   26.000   26.00   62.000000\n",
      "...           ...      ...     ...         ...\n",
      "龙湖九里香醍北区  136.150  141.250  139.10  270.666667\n",
      "龙湖九里香醍南区  604.500  629.500  613.00  150.333333\n",
      "龙湖天宸原著    162.200  189.800  203.00  314.800000\n",
      "龙湖天鉅      202.600  324.200  263.40  275.000000\n",
      "龙韵怡景苑      98.275  103.825  101.05  149.000000\n",
      "\n",
      "[978 rows x 4 columns]\n"
     ]
    },
    {
     "name": "stderr",
     "output_type": "stream",
     "text": [
      "<ipython-input-106-91d74f1ef8f2>:10: DeprecationWarning: DataFrameGroupBy.apply operated on the grouping columns. This behavior is deprecated, and in a future version of pandas the grouping columns will be excluded from the operation. Either pass `include_groups=False` to exclude the groupings or explicitly select the grouping columns after groupby to silence this warning.\n",
      "  optimal_prices = transaction_records.groupby('小区名称').apply(optimal_price_range)\n"
     ]
    }
   ],
   "source": [
    "# 计算最佳定价区间\n",
    "def optimal_price_range(group):\n",
    "    return pd.Series({\n",
    "        '最佳定价下限': group['总价（万）'].quantile(0.25),\n",
    "        '最佳定价上限': group['总价（万）'].quantile(0.75),\n",
    "        '平均成交价': group['总价（万）'].mean(),\n",
    "        '平均成交周期': group['成交周期（天）'].mean()\n",
    "    })\n",
    "\n",
    "optimal_prices = transaction_records.groupby('小区名称').apply(optimal_price_range)\n",
    "print(\"各小区的最佳定价区间：\")\n",
    "print(optimal_prices)\n"
   ]
  },
  {
   "cell_type": "markdown",
   "id": "4a461b65",
   "metadata": {},
   "source": [
    "### 溢价率\n",
    "平均溢价率为-0.07，即-7%。这表明平均而言，房产的实际成交价格比挂牌价格低7%。这可能反映了以下情况：\n",
    "1. 卖方可能倾向于略高定价，为议价留出空间。\n",
    "2. 买方通常能够成功议价，获得低于挂牌价的成交价。\n",
    "3. 市场可能处于买方市场，供大于求，导致价格有下行压力。\n",
    "### 成交周期\n",
    "平均成交周期约为224.49天，即大约7.5个月。这个周期相对较长，可能说明：\n",
    "1. 市场可能不够活跃，导致成交速度较慢。\n",
    "### 最佳定价区间\n",
    "1. 更准确的定价策略：\n",
    "卖家可以根据最佳定价区间来设定更合理的挂牌价格，既不会定价过高导致房产滞销，也不会定价过低造成不必要的损失。\n",
    "这有助于缩短成交周期，提高交易效率。\n",
    "\n",
    "2. 提高成交概率：\n",
    "在最佳定价区间内定价可以吸引更多潜在买家，因为价格符合市场预期。\n",
    "增加了房产在合理时间内成交的可能性。\n",
    "\n",
    "3. 市场透明度：\n",
    "提高整体市场的透明度，有助于形成更健康、更稳定的房地产市场。\n",
    "减少信息不对称导致的市场扭曲。"
   ]
  },
  {
   "cell_type": "markdown",
   "id": "94bd1cf4",
   "metadata": {},
   "source": [
    "## 二手房销售技巧分析"
   ]
  },
  {
   "cell_type": "code",
   "execution_count": 129,
   "id": "767bef8b",
   "metadata": {
    "ExecuteTime": {
     "end_time": "2024-07-09T07:58:42.669799Z",
     "start_time": "2024-07-09T07:58:42.654383Z"
    }
   },
   "outputs": [
    {
     "name": "stdout",
     "output_type": "stream",
     "text": [
      "快速成交案例：\n",
      "            小区名称    户型  总价（万）  成交周期（天）\n",
      "7           星海新村  2室1厅   73.6        1\n",
      "43        茂业时代广场  1室1厅   33.8        2\n",
      "51        天渝骏园二期  3室2厅  155.0        4\n",
      "54    阿卡迪亚（天骄铭邸）  2室2厅  108.5        6\n",
      "106        马鞍苑一区  2室2厅   73.8        1\n",
      "...          ...   ...    ...      ...\n",
      "2886        东河头巷  2室1厅  163.8        4\n",
      "2907        惠钱二村  1室1厅   59.9        5\n",
      "2908      茂业时代广场  1室1厅   32.0        4\n",
      "2934        紫金花园  3室1厅  106.0        2\n",
      "2990     华润江南府北区  3室2厅  207.0        2\n",
      "\n",
      "[184 rows x 4 columns]\n"
     ]
    }
   ],
   "source": [
    "# 分析成交周期短的案例\n",
    "quick_sales = transaction_records[transaction_records['成交周期（天）'] < 7]  # 假设7天内成交为快速成交\n",
    "print(\"快速成交案例：\")\n",
    "print(quick_sales[['小区名称', '户型', '总价（万）', '成交周期（天）']])\n"
   ]
  },
  {
   "cell_type": "code",
   "execution_count": 143,
   "id": "450d87ea",
   "metadata": {
    "ExecuteTime": {
     "end_time": "2024-07-09T08:17:22.281227Z",
     "start_time": "2024-07-09T08:17:21.942971Z"
    }
   },
   "outputs": [
    {
     "name": "stdout",
     "output_type": "stream",
     "text": [
      "户型统计表：\n",
      "      数量   均价（万）\n",
      "户型              \n",
      "3室2厅  65  156.85\n",
      "2室1厅  34   88.69\n",
      "1室1厅  24   45.61\n",
      "3室1厅  24  142.50\n",
      "2室2厅  17   88.06\n",
      "4室2厅  13  291.77\n",
      "4室1厅   4  242.25\n",
      "1室0厅   1   22.40\n",
      "4室3厅   1  475.00\n",
      "6室2厅   1  371.00\n"
     ]
    },
    {
     "data": {
      "image/png": "[encoded data removed]",
      "text/plain": [
       "<Figure size 1440x576 with 1 Axes>"
      ]
     },
     "metadata": {
      "needs_background": "light"
     },
     "output_type": "display_data"
    }
   ],
   "source": [
    "# 计算户型的数量\n",
    "house_type_count = quick_sales['户型'].value_counts().sort_values(ascending=False)\n",
    "\n",
    "# 计算户型的均价\n",
    "house_type_price = quick_sales.groupby('户型')['总价（万）'].mean().sort_values(ascending=False)\n",
    "\n",
    "# 创建一个新的DataFrame，包含户型数量和均价\n",
    "house_type_stats = pd.DataFrame({\n",
    "    '数量': house_type_count,\n",
    "    '均价（万）': house_type_price\n",
    "}).sort_values('数量', ascending=False)\n",
    "\n",
    "# 格式化均价为两位小数\n",
    "house_type_stats['均价（万）'] = house_type_stats['均价（万）'].round(2)\n",
    "\n",
    "print(\"户型统计表：\")\n",
    "print(house_type_stats)\n",
    "\n",
    "# 户型分布图\n",
    "plt.figure(figsize=(20, 8))\n",
    "house_type_stats['数量'].plot(kind='bar')\n",
    "plt.title('户型分布', fontsize=20)\n",
    "plt.xlabel('户型', fontsize=16)\n",
    "plt.ylabel('数量', fontsize=16)\n",
    "plt.xticks(rotation=45, ha='right', fontsize=12)\n",
    "plt.yticks(fontsize=12)\n",
    "\n",
    "# 在柱状图上添加具体数值\n",
    "for i, v in enumerate(house_type_stats['数量']):\n",
    "    plt.text(i, v, str(v), ha='center', va='bottom', fontsize=12)\n",
    "\n",
    "plt.tight_layout()\n",
    "plt.show()"
   ]
  },
  {
   "cell_type": "markdown",
   "id": "d4c03960",
   "metadata": {
    "ExecuteTime": {
     "end_time": "2024-07-09T08:17:46.014612Z",
     "start_time": "2024-07-09T08:17:45.983278Z"
    }
   },
   "source": [
    "### 总结\n",
    "1. 市场主导户型:\n",
    "3室2厅占据了市场的35.33%,是绝对主导的户型,均价156.85万。这表明超过三分之一的市场需求集中在这种适合中等家庭的户型上。\n",
    "2. 小户型市场:\n",
    "2室1厅(18.48%)和1室1厅(13.04%)共占市场的31.52%,构成了重要的小户型市场。\n",
    "这两种户型的均价分别为88.69万和45.61万,可能更受年轻人、单身人士或投资者青睐。\n",
    "3. 中等户型:\n",
    "3室1厅占13.04%,均价142.50万,是3室2厅的经济型替代选择。\n",
    "2室2厅占9.24%,均价88.06万,与2室1厅价格相近,但占比较小。\n",
    "4. 大户型市场:\n",
    "4室2厅虽然只占7.07%,但均价高达291.77万,可能针对高收入家庭。\n",
    "4室以上的户型(4室1厅、4室3厅、6室2厅)共占约3.25%,均价较高,属于高端市场。"
   ]
  },
  {
   "cell_type": "markdown",
   "id": "41d68666",
   "metadata": {},
   "source": [
    "## 客户定位"
   ]
  },
  {
   "cell_type": "markdown",
   "id": "9edac8ab",
   "metadata": {},
   "source": [
    "### 分析不同价格区间的房源数量"
   ]
  },
  {
   "cell_type": "code",
   "execution_count": 156,
   "id": "4a276a1c",
   "metadata": {
    "ExecuteTime": {
     "end_time": "2024-07-09T09:48:54.198568Z",
     "start_time": "2024-07-09T09:48:53.949753Z"
    },
    "scrolled": false
   },
   "outputs": [
    {
     "name": "stderr",
     "output_type": "stream",
     "text": [
      "<ipython-input-156-342a4ecdddca>:4: FutureWarning: The default of observed=False is deprecated and will be changed to True in a future version of pandas. Pass observed=False to retain current behavior or observed=True to adopt the future default and silence this warning.\n",
      "  price_distribution = second_hand_houses.groupby(price_ranges).size()\n"
     ]
    },
    {
     "data": {
      "image/png": "[encoded data removed]",
      "text/plain": [
       "<Figure size 1440x576 with 1 Axes>"
      ]
     },
     "metadata": {
      "needs_background": "light"
     },
     "output_type": "display_data"
    }
   ],
   "source": [
    "plt.figure(figsize=(20, 8))\n",
    "price_ranges = pd.cut(second_hand_houses['总价'], bins=[0, 100, 200, 300, 400, 500, np.inf])\n",
    "price_distribution = second_hand_houses.groupby(price_ranges).size()\n",
    "price_distribution.plot(kind='bar')\n",
    "plt.title('不同价格区间的房源数量')\n",
    "\n",
    "# 修改x轴标签为横向显示\n",
    "plt.xticks(rotation=0)\n",
    "\n",
    "plt.show()"
   ]
  },
  {
   "cell_type": "markdown",
   "id": "5bbacab0",
   "metadata": {},
   "source": [
    "### 户型偏好分析"
   ]
  },
  {
   "cell_type": "code",
   "execution_count": 160,
   "id": "8e95b9c7",
   "metadata": {
    "ExecuteTime": {
     "end_time": "2024-07-09T10:40:37.731194Z",
     "start_time": "2024-07-09T10:40:37.486791Z"
    }
   },
   "outputs": [
    {
     "data": {
      "image/png": "[encoded data removed]",
      "text/plain": [
       "<Figure size 1440x576 with 1 Axes>"
      ]
     },
     "metadata": {},
     "output_type": "display_data"
    }
   ],
   "source": [
    "def room_type_analysis(df, room_column):\n",
    "    room_distribution = df[room_column].value_counts()\n",
    "    \n",
    "    plt.figure(figsize=(20,8))\n",
    "    room_distribution.plot(kind='pie', autopct='%1.1f%%')\n",
    "    plt.title('户型偏好分布')\n",
    "    plt.ylabel('')\n",
    "    plt.show()\n",
    "    \n",
    "    return room_distribution\n",
    "\n",
    "room_dist = room_type_analysis(second_hand_houses, '户型')\n"
   ]
  },
  {
   "cell_type": "markdown",
   "id": "02d27ee5",
   "metadata": {},
   "source": [
    "### 面积需求分析"
   ]
  },
  {
   "cell_type": "code",
   "execution_count": 163,
   "id": "f847f103",
   "metadata": {
    "ExecuteTime": {
     "end_time": "2024-07-09T10:48:17.478496Z",
     "start_time": "2024-07-09T10:48:17.155936Z"
    }
   },
   "outputs": [
    {
     "name": "stderr",
     "output_type": "stream",
     "text": [
      "<ipython-input-163-b8d389affb0c>:5: FutureWarning: The default of observed=False is deprecated and will be changed to True in a future version of pandas. Pass observed=False to retain current behavior or observed=True to adopt the future default and silence this warning.\n",
      "  area_distribution = df.groupby(area_ranges).size()\n"
     ]
    },
    {
     "data": {
      "image/png": "[encoded data removed]",
      "text/plain": [
       "<Figure size 1440x576 with 1 Axes>"
      ]
     },
     "metadata": {
      "needs_background": "light"
     },
     "output_type": "display_data"
    }
   ],
   "source": [
    "def area_analysis(df, area_column):\n",
    "    area_ranges = pd.cut(df[area_column], bins=[0, 50, 90, 120, 150, np.inf], \n",
    "                         labels=['小于50㎡', '50-90㎡', '90-120㎡', '120-150㎡', '150㎡以上'])\n",
    "    area_distribution = df.groupby(area_ranges).size()\n",
    "    \n",
    "    plt.figure(figsize=(20,8))\n",
    "    area_distribution.plot(kind='bar')\n",
    "    plt.title('面积需求分布')\n",
    "    plt.xlabel('面积区间')\n",
    "    plt.ylabel('房源数量')\n",
    "    # 修改x轴标签为横向显示\n",
    "    plt.xticks(rotation=0)\n",
    "    plt.show()\n",
    "    \n",
    "    return area_distribution\n",
    "\n",
    "area_dist = area_analysis(second_hand_houses, '面积')"
   ]
  },
  {
   "cell_type": "markdown",
   "id": "7cb8442e",
   "metadata": {
    "ExecuteTime": {
     "end_time": "2024-07-09T11:01:15.997930Z",
     "start_time": "2024-07-09T11:01:15.982564Z"
    }
   },
   "source": [
    "### 装修偏好分析"
   ]
  },
  {
   "cell_type": "code",
   "execution_count": 13,
   "id": "cfc30e61",
   "metadata": {
    "ExecuteTime": {
     "end_time": "2024-07-10T04:36:31.500031Z",
     "start_time": "2024-07-10T04:36:31.225632Z"
    }
   },
   "outputs": [
    {
     "data": {
      "image/png": "[encoded data removed]",
      "text/plain": [
       "<Figure size 1440x576 with 1 Axes>"
      ]
     },
     "metadata": {},
     "output_type": "display_data"
    }
   ],
   "source": [
    "def decoration_analysis(df, decoration_column):\n",
    "    decoration_distribution = df[decoration_column].value_counts()\n",
    "    \n",
    "    plt.figure(figsize=(20,8))\n",
    "    decoration_distribution.plot(kind='pie', autopct='%1.1f%%')\n",
    "    plt.title('装修偏好分布')\n",
    "    plt.ylabel('')\n",
    "    plt.show()\n",
    "    \n",
    "    return decoration_distribution\n",
    "decoration_dist = decoration_analysis(second_hand_houses, '装修')"
   ]
  },
  {
   "cell_type": "markdown",
   "id": "ac6e6fef",
   "metadata": {},
   "source": [
    "### 区域偏好分析"
   ]
  },
  {
   "cell_type": "code",
   "execution_count": 172,
   "id": "14d0674e",
   "metadata": {
    "ExecuteTime": {
     "end_time": "2024-07-09T10:53:41.610975Z",
     "start_time": "2024-07-09T10:53:41.256743Z"
    }
   },
   "outputs": [
    {
     "data": {
      "image/png": "[encoded data removed]",
      "text/plain": [
       "<Figure size 1440x576 with 1 Axes>"
      ]
     },
     "metadata": {
      "needs_background": "light"
     },
     "output_type": "display_data"
    }
   ],
   "source": [
    "def district_analysis(df, district_column, value_column):\n",
    "    district_avg_price = df.groupby(district_column)[value_column].mean().sort_values(ascending=False)\n",
    "    \n",
    "    plt.figure(figsize=(20,8))\n",
    "    district_avg_price.plot(kind='bar')\n",
    "    plt.title('各区域平均房价')\n",
    "    plt.xlabel('区域')\n",
    "    plt.ylabel('平均房价')\n",
    "    plt.xticks(rotation=45)\n",
    "    plt.show()\n",
    "    \n",
    "    return district_avg_price\n",
    "\n",
    "district_price = district_analysis(second_hand_houses, '地区', '房价')"
   ]
  },
  {
   "cell_type": "markdown",
   "id": "c31b3a90",
   "metadata": {
    "ExecuteTime": {
     "end_time": "2024-07-09T11:01:47.401374Z",
     "start_time": "2024-07-09T11:01:47.382984Z"
    }
   },
   "source": [
    "### 多维度交叉分析"
   ]
  },
  {
   "cell_type": "code",
   "execution_count": 19,
   "id": "039233b6",
   "metadata": {
    "ExecuteTime": {
     "end_time": "2024-07-10T05:51:54.912749Z",
     "start_time": "2024-07-10T05:51:54.289595Z"
    }
   },
   "outputs": [
    {
     "data": {
      "image/png": "[encoded data removed]",
      "text/plain": [
       "<Figure size 1440x576 with 2 Axes>"
      ]
     },
     "metadata": {
      "needs_background": "light"
     },
     "output_type": "display_data"
    }
   ],
   "source": [
    "def cross_analysis(df, x_column, y_column, value_column):\n",
    "    pivot = df.pivot_table(values=value_column, index=x_column, columns=y_column, aggfunc='mean')\n",
    "    \n",
    "    plt.figure(figsize=(20,8))\n",
    "    sns.heatmap(pivot, annot=True, fmt='.0f', cmap='YlOrRd')\n",
    "    plt.title(f'{x_column}与{y_column}的{value_column}交叉分析')\n",
    "    plt.show()\n",
    "    \n",
    "    return pivot\n",
    "\n",
    "area_district_price = cross_analysis(second_hand_houses, '地区', '户型', '房价')"
   ]
  },
  {
   "cell_type": "markdown",
   "id": "897add51",
   "metadata": {},
   "source": [
    "### 客户画像总结"
   ]
  },
  {
   "cell_type": "code",
   "execution_count": 177,
   "id": "e7a7d677",
   "metadata": {
    "ExecuteTime": {
     "end_time": "2024-07-09T11:02:40.335848Z",
     "start_time": "2024-07-09T11:02:40.325500Z"
    }
   },
   "outputs": [
    {
     "name": "stdout",
     "output_type": "stream",
     "text": [
      "客户画像总结：\n",
      "1. 最受欢迎的价格区间: 100-200万\n",
      "2. 最受欢迎的户型: 3室2厅\n",
      "3. 最受欢迎的面积区间: 50-90㎡\n",
      "4. 最受欢迎的装修类型: 精装\n",
      "5. 平均房价最高的区域: 滨湖区\n"
     ]
    }
   ],
   "source": [
    "def customer_profile_summary(price_dist, room_dist, area_dist, decoration_dist, district_price):\n",
    "    print(\"客户画像总结：\")\n",
    "    print(f\"1. 最受欢迎的价格区间: {price_dist.idxmax()}\")\n",
    "    print(f\"2. 最受欢迎的户型: {room_dist.idxmax()}\")\n",
    "    print(f\"3. 最受欢迎的面积区间: {area_dist.idxmax()}\")\n",
    "    print(f\"4. 最受欢迎的装修类型: {decoration_dist.idxmax()}\")\n",
    "    print(f\"5. 平均房价最高的区域: {district_price.idxmax()}\")\n",
    "    \n",
    "customer_profile_summary(second_hand_dist, room_dist, area_dist, decoration_dist, district_price)"
   ]
  },
  {
   "cell_type": "markdown",
   "id": "44b8dc68",
   "metadata": {},
   "source": [
    "# 总结"
   ]
  },
  {
   "cell_type": "code",
   "execution_count": 14,
   "id": "ca118d69",
   "metadata": {
    "ExecuteTime": {
     "end_time": "2024-07-10T04:40:56.567624Z",
     "start_time": "2024-07-10T04:40:56.561277Z"
    }
   },
   "outputs": [],
   "source": [
    "report = \"\"\"\n",
    "1. 市场需求概况：\n",
    "最受欢迎的价格区间：100-200万\n",
    "最受欢迎的户型：3室2厅（占市场35.33%）\n",
    "最受欢迎的面积区间：50-90㎡\n",
    "最受欢迎的装修类型：精装\n",
    "平均房价最高的区域：滨湖区\n",
    "\n",
    "2. 户型分布：\n",
    "主导户型：3室2厅（35.33%，均价156.85万）\n",
    "小户型市场：2室1厅和1室1厅（合计31.52%）\n",
    "中等户型：3室1厅（13.04%）和2室2厅（9.24%）\n",
    "大户型市场：4室2厅及以上（约10.32%）\n",
    "\n",
    "3. 市场特征：\n",
    "平均溢价率：-7%（实际成交价低于挂牌价）\n",
    "平均成交周期：约224.49天（7.5个月）\n",
    "市场状态：可能为买方市场，供大于求\n",
    "\n",
    "4. 价格影响因素：\n",
    "户型：大户型通常价格较高，但特大户型可能需求较少\n",
    "装修：精装房均价最高，其次是毛坯房，简装房最低\n",
    "\n",
    "5. 新房与二手房比较：\n",
    "所有地区新房价格均高于二手房\n",
    "差异最大：梁溪区（76.51%）\n",
    "差异最小：江阴市（32.94%）\n",
    "高价区域：滨湖区和梁溪区\n",
    "低价区域：江阴市\n",
    "\n",
    "6. 市场建议：\n",
    "卖家：根据最佳定价区间设定合理价格，提高成交效率\n",
    "买家：关注3室2厅等主流户型，考虑精装房的便利性\n",
    "投资者：可关注小户型市场，如2室1厅和1室1厅\n",
    "\"\"\"\n"
   ]
  },
  {
   "cell_type": "code",
   "execution_count": null,
   "id": "814501d8",
   "metadata": {},
   "outputs": [],
   "source": []
  }
 ],
 "metadata": {
  "kernelspec": {
   "display_name": "Python 3.10",
   "language": "python",
   "name": "python3.10"
  },
  "language_info": {
   "codemirror_mode": {
    "name": "ipython",
    "version": 3
   },
   "file_extension": ".py",
   "mimetype": "text/x-python",
   "name": "python",
   "nbconvert_exporter": "python",
   "pygments_lexer": "ipython3",
   "version": "3.10.10"
  },
  "toc": {
   "base_numbering": 1,
   "nav_menu": {},
   "number_sections": true,
   "sideBar": true,
   "skip_h1_title": false,
   "title_cell": "Table of Contents",
   "title_sidebar": "Contents",
   "toc_cell": false,
   "toc_position": {
    "height": "calc(100% - 180px)",
    "left": "10px",
    "top": "150px",
    "width": "298.438px"
   },
   "toc_section_display": true,
   "toc_window_display": true
  }
 },
 "nbformat": 4,
 "nbformat_minor": 5
}
